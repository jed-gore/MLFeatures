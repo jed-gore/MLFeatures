{
 "cells": [
  {
   "cell_type": "code",
   "execution_count": 1,
   "id": "warming-advance",
   "metadata": {},
   "outputs": [
    {
     "data": {
      "text/html": [
       "<style>.container { width:100% !important; }</style>"
      ],
      "text/plain": [
       "<IPython.core.display.HTML object>"
      ]
     },
     "metadata": {},
     "output_type": "display_data"
    }
   ],
   "source": [
    "from sklearn.metrics import mean_squared_error, mean_absolute_error\n",
    "from statsmodels.graphics.tsaplots import plot_acf, plot_pacf\n",
    "from statsmodels.stats.diagnostic import acorr_ljungbox\n",
    "from statsmodels.tsa.statespace.sarimax import SARIMAX\n",
    "from statsmodels.tsa.arima_process import ArmaProcess\n",
    "from statsmodels.graphics.gofplots import qqplot\n",
    "from statsmodels.tsa.stattools import adfuller\n",
    "from tqdm import tqdm_notebook\n",
    "from tqdm import tqdm\n",
    "from itertools import product\n",
    "from typing import Union\n",
    "\n",
    "import matplotlib.pyplot as plt\n",
    "import numpy as np\n",
    "import pandas as pd\n",
    "\n",
    "import warnings\n",
    "warnings.filterwarnings('ignore')\n",
    "\n",
    "import pandas as pd\n",
    "import numpy as np\n",
    "\n",
    "from IPython.display import display, HTML\n",
    "display(HTML(\"<style>.container { width:100% !important; }</style>\"))\n",
    "\n",
    "%matplotlib inline"
   ]
  },
  {
   "cell_type": "code",
   "execution_count": 2,
   "id": "76b97071",
   "metadata": {},
   "outputs": [],
   "source": [
    "import requests\n",
    "import pandas as pd\n",
    "from requests.auth import HTTPBasicAuth\n",
    "\n",
    "endpoint = 'https://www.daloopa.com'\n",
    "TICKER = 'SIVB'\n",
    "response = requests.get(f\"{endpoint}/api/v1/export/{TICKER}\",auth=HTTPBasicAuth('jedgore1@gmail.com',''),stream=True)\n",
    "\n",
    "df = pd.read_csv(response.raw)\n"
   ]
  },
  {
   "cell_type": "code",
   "execution_count": 3,
   "id": "0ffff009",
   "metadata": {},
   "outputs": [
    {
     "data": {
      "text/html": [
       "<div>\n",
       "<style scoped>\n",
       "    .dataframe tbody tr th:only-of-type {\n",
       "        vertical-align: middle;\n",
       "    }\n",
       "\n",
       "    .dataframe tbody tr th {\n",
       "        vertical-align: top;\n",
       "    }\n",
       "\n",
       "    .dataframe thead th {\n",
       "        text-align: right;\n",
       "    }\n",
       "</style>\n",
       "<table border=\"1\" class=\"dataframe\">\n",
       "  <thead>\n",
       "    <tr style=\"text-align: right;\">\n",
       "      <th></th>\n",
       "      <th>id</th>\n",
       "      <th>ticker</th>\n",
       "      <th>company_name</th>\n",
       "      <th>label</th>\n",
       "      <th>category</th>\n",
       "      <th>span</th>\n",
       "      <th>calendar_period</th>\n",
       "      <th>fiscal_period</th>\n",
       "      <th>fiscal_date</th>\n",
       "      <th>unit</th>\n",
       "      <th>...</th>\n",
       "      <th>value_normalized</th>\n",
       "      <th>source_link</th>\n",
       "      <th>series_id</th>\n",
       "      <th>filing_date</th>\n",
       "      <th>series_id_relations</th>\n",
       "      <th>series_tag</th>\n",
       "      <th>restated</th>\n",
       "      <th>title</th>\n",
       "      <th>capiq_ticker</th>\n",
       "      <th>is_transition_period</th>\n",
       "    </tr>\n",
       "  </thead>\n",
       "  <tbody>\n",
       "    <tr>\n",
       "      <th>0</th>\n",
       "      <td>46323103</td>\n",
       "      <td>SIVB</td>\n",
       "      <td>Svb Financial Group</td>\n",
       "      <td>Net interest margin</td>\n",
       "      <td>Guidance</td>\n",
       "      <td>quarterly</td>\n",
       "      <td>2013Q1</td>\n",
       "      <td>2013Q1</td>\n",
       "      <td>2013-03-31</td>\n",
       "      <td>Percent</td>\n",
       "      <td>...</td>\n",
       "      <td>0.0325</td>\n",
       "      <td>https://www.daloopa.com/src/46323103</td>\n",
       "      <td>3351036</td>\n",
       "      <td>2013-04-25</td>\n",
       "      <td>NaN</td>\n",
       "      <td>NaN</td>\n",
       "      <td>False</td>\n",
       "      <td>Guidance | Yearly | High | Net interest margin</td>\n",
       "      <td>NasdaqGS:SIVB</td>\n",
       "      <td>False</td>\n",
       "    </tr>\n",
       "    <tr>\n",
       "      <th>1</th>\n",
       "      <td>46322925</td>\n",
       "      <td>SIVB</td>\n",
       "      <td>Svb Financial Group</td>\n",
       "      <td>Net interest margin</td>\n",
       "      <td>Guidance</td>\n",
       "      <td>quarterly</td>\n",
       "      <td>2013Q2</td>\n",
       "      <td>2013Q2</td>\n",
       "      <td>2013-06-30</td>\n",
       "      <td>Percent</td>\n",
       "      <td>...</td>\n",
       "      <td>0.0335</td>\n",
       "      <td>https://www.daloopa.com/src/46322925</td>\n",
       "      <td>3351036</td>\n",
       "      <td>2013-07-25</td>\n",
       "      <td>NaN</td>\n",
       "      <td>NaN</td>\n",
       "      <td>False</td>\n",
       "      <td>Guidance | Yearly | High | Net interest margin</td>\n",
       "      <td>NasdaqGS:SIVB</td>\n",
       "      <td>False</td>\n",
       "    </tr>\n",
       "    <tr>\n",
       "      <th>2</th>\n",
       "      <td>46322097</td>\n",
       "      <td>SIVB</td>\n",
       "      <td>Svb Financial Group</td>\n",
       "      <td>Net interest margin</td>\n",
       "      <td>Guidance</td>\n",
       "      <td>quarterly</td>\n",
       "      <td>2013Q3</td>\n",
       "      <td>2013Q3</td>\n",
       "      <td>2013-09-30</td>\n",
       "      <td>Percent</td>\n",
       "      <td>...</td>\n",
       "      <td>0.0335</td>\n",
       "      <td>https://www.daloopa.com/src/46322097</td>\n",
       "      <td>3351036</td>\n",
       "      <td>2013-10-24</td>\n",
       "      <td>NaN</td>\n",
       "      <td>NaN</td>\n",
       "      <td>False</td>\n",
       "      <td>Guidance | Yearly | High | Net interest margin</td>\n",
       "      <td>NasdaqGS:SIVB</td>\n",
       "      <td>False</td>\n",
       "    </tr>\n",
       "    <tr>\n",
       "      <th>3</th>\n",
       "      <td>46321959</td>\n",
       "      <td>SIVB</td>\n",
       "      <td>Svb Financial Group</td>\n",
       "      <td>Net interest margin</td>\n",
       "      <td>Guidance</td>\n",
       "      <td>quarterly</td>\n",
       "      <td>2013Q4</td>\n",
       "      <td>2013Q4</td>\n",
       "      <td>2013-12-31</td>\n",
       "      <td>Percent</td>\n",
       "      <td>...</td>\n",
       "      <td>0.0330</td>\n",
       "      <td>https://www.daloopa.com/src/46321959</td>\n",
       "      <td>3351036</td>\n",
       "      <td>2014-01-23</td>\n",
       "      <td>NaN</td>\n",
       "      <td>NaN</td>\n",
       "      <td>False</td>\n",
       "      <td>Guidance | Yearly | High | Net interest margin</td>\n",
       "      <td>NasdaqGS:SIVB</td>\n",
       "      <td>False</td>\n",
       "    </tr>\n",
       "    <tr>\n",
       "      <th>4</th>\n",
       "      <td>46321781</td>\n",
       "      <td>SIVB</td>\n",
       "      <td>Svb Financial Group</td>\n",
       "      <td>Net interest margin</td>\n",
       "      <td>Guidance</td>\n",
       "      <td>quarterly</td>\n",
       "      <td>2014Q1</td>\n",
       "      <td>2014Q1</td>\n",
       "      <td>2014-03-31</td>\n",
       "      <td>Percent</td>\n",
       "      <td>...</td>\n",
       "      <td>0.0320</td>\n",
       "      <td>https://www.daloopa.com/src/46321781</td>\n",
       "      <td>3351036</td>\n",
       "      <td>2014-04-24</td>\n",
       "      <td>NaN</td>\n",
       "      <td>NaN</td>\n",
       "      <td>False</td>\n",
       "      <td>Guidance | Yearly | High | Net interest margin</td>\n",
       "      <td>NasdaqGS:SIVB</td>\n",
       "      <td>False</td>\n",
       "    </tr>\n",
       "  </tbody>\n",
       "</table>\n",
       "<p>5 rows × 22 columns</p>\n",
       "</div>"
      ],
      "text/plain": [
       "         id ticker         company_name                label  category  \\\n",
       "0  46323103   SIVB  Svb Financial Group  Net interest margin  Guidance   \n",
       "1  46322925   SIVB  Svb Financial Group  Net interest margin  Guidance   \n",
       "2  46322097   SIVB  Svb Financial Group  Net interest margin  Guidance   \n",
       "3  46321959   SIVB  Svb Financial Group  Net interest margin  Guidance   \n",
       "4  46321781   SIVB  Svb Financial Group  Net interest margin  Guidance   \n",
       "\n",
       "        span calendar_period fiscal_period fiscal_date     unit  ...  \\\n",
       "0  quarterly          2013Q1        2013Q1  2013-03-31  Percent  ...   \n",
       "1  quarterly          2013Q2        2013Q2  2013-06-30  Percent  ...   \n",
       "2  quarterly          2013Q3        2013Q3  2013-09-30  Percent  ...   \n",
       "3  quarterly          2013Q4        2013Q4  2013-12-31  Percent  ...   \n",
       "4  quarterly          2014Q1        2014Q1  2014-03-31  Percent  ...   \n",
       "\n",
       "  value_normalized                           source_link  series_id  \\\n",
       "0           0.0325  https://www.daloopa.com/src/46323103    3351036   \n",
       "1           0.0335  https://www.daloopa.com/src/46322925    3351036   \n",
       "2           0.0335  https://www.daloopa.com/src/46322097    3351036   \n",
       "3           0.0330  https://www.daloopa.com/src/46321959    3351036   \n",
       "4           0.0320  https://www.daloopa.com/src/46321781    3351036   \n",
       "\n",
       "  filing_date  series_id_relations series_tag  restated  \\\n",
       "0  2013-04-25                  NaN        NaN     False   \n",
       "1  2013-07-25                  NaN        NaN     False   \n",
       "2  2013-10-24                  NaN        NaN     False   \n",
       "3  2014-01-23                  NaN        NaN     False   \n",
       "4  2014-04-24                  NaN        NaN     False   \n",
       "\n",
       "                                            title   capiq_ticker  \\\n",
       "0  Guidance | Yearly | High | Net interest margin  NasdaqGS:SIVB   \n",
       "1  Guidance | Yearly | High | Net interest margin  NasdaqGS:SIVB   \n",
       "2  Guidance | Yearly | High | Net interest margin  NasdaqGS:SIVB   \n",
       "3  Guidance | Yearly | High | Net interest margin  NasdaqGS:SIVB   \n",
       "4  Guidance | Yearly | High | Net interest margin  NasdaqGS:SIVB   \n",
       "\n",
       "  is_transition_period  \n",
       "0                False  \n",
       "1                False  \n",
       "2                False  \n",
       "3                False  \n",
       "4                False  \n",
       "\n",
       "[5 rows x 22 columns]"
      ]
     },
     "execution_count": 3,
     "metadata": {},
     "output_type": "execute_result"
    }
   ],
   "source": [
    "df.head()"
   ]
  },
  {
   "cell_type": "code",
   "execution_count": 4,
   "id": "59d6569a",
   "metadata": {},
   "outputs": [
    {
     "data": {
      "text/plain": [
       "array(['Guidance', 'KPIs', 'Segmental breakdown', 'Income statement',\n",
       "       'Balance sheet', 'Cash flow statement', 'GAAP to Non- GAAP',\n",
       "       'Premises and equipment', 'Other breakdown'], dtype=object)"
      ]
     },
     "execution_count": 4,
     "metadata": {},
     "output_type": "execute_result"
    }
   ],
   "source": [
    "df['category'].unique()"
   ]
  },
  {
   "cell_type": "code",
   "execution_count": 5,
   "id": "38182f28",
   "metadata": {},
   "outputs": [],
   "source": [
    "df = df.loc[df['category']=='Balance sheet']\n",
    "df = df.loc[df['span']=='quarterly']"
   ]
  },
  {
   "cell_type": "code",
   "execution_count": 6,
   "id": "bb600004",
   "metadata": {},
   "outputs": [],
   "source": [
    "assets_list = ['Cash and cash equivalents',\n",
    "       'Available-for-sale securities, at fair value',\n",
    "       'Held-to-maturity securities, at amortized cost and, net of allowance for credit losses\\xa0',\n",
    "       'Non-marketable and other equity securities',\n",
    "       'Investment securities', 'Loans amortized cost',\n",
    "       'Allowance for credit losses loans', 'Net loans', 'Goodwill',\n",
    "       'Premises and equipment, net of accumulated depreciation and amortization',\n",
    "       'Other intangible assets, net', 'Lease right-of-use assets',\n",
    "       'Accrued interest receivable and other assets']\n",
    "liabilities_list = ['Non-Interest-bearing demand deposits',\n",
    "       'Interest-bearing deposits',\n",
    "       'Short-term borrowings', 'Lease liabilities', 'Other liabilities',\n",
    "       'Long-term debt']\n",
    "equity_list = ['Preferred stock',\n",
    "       'Common stock ', 'Additional paid in capital', 'Retained earnings',\n",
    "       'Accumulated other comprehensive loss',\n",
    "       'Total SVBFG stockholders equity', 'Non-controlling interests',\n",
    "       'Total equity', 'Total liabilities and total equity',\n",
    "       'Cash and due from banks',\n",
    "       'Interest bearing deposits with the Federal Reserve Bank',\n",
    "       'Interest bearing deposits with other institutions',\n",
    "       'Securities purchased under agreements to resell',\n",
    "       'Other short-term investment securities']"
   ]
  },
  {
   "cell_type": "code",
   "execution_count": 7,
   "id": "2efd32b9",
   "metadata": {},
   "outputs": [],
   "source": [
    "pd.set_option('display.float_format', lambda x: '%.3f' % x)\n",
    "assets = []\n",
    "for asset_type in assets_list:\n",
    "    temp_df = df.loc[df['label']==asset_type]\n",
    "    assets.append(temp_df)\n",
    "\n",
    "liabilities = []\n",
    "for liability_type in liabilities_list:\n",
    "    temp_df = df.loc[df['label']==liability_type]\n",
    "    temp_df['value_normalized']=temp_df['value_normalized']*(-1)\n",
    "    liabilities.append(temp_df)\n",
    "\n",
    "df_assets = pd.concat(assets).reset_index()\n",
    "df_liabilities = pd.concat(liabilities).reset_index()"
   ]
  },
  {
   "cell_type": "code",
   "execution_count": 8,
   "id": "2074d103",
   "metadata": {},
   "outputs": [
    {
     "data": {
      "text/html": [
       "<div>\n",
       "<style scoped>\n",
       "    .dataframe tbody tr th:only-of-type {\n",
       "        vertical-align: middle;\n",
       "    }\n",
       "\n",
       "    .dataframe tbody tr th {\n",
       "        vertical-align: top;\n",
       "    }\n",
       "\n",
       "    .dataframe thead th {\n",
       "        text-align: right;\n",
       "    }\n",
       "</style>\n",
       "<table border=\"1\" class=\"dataframe\">\n",
       "  <thead>\n",
       "    <tr style=\"text-align: right;\">\n",
       "      <th></th>\n",
       "      <th>index</th>\n",
       "      <th>id</th>\n",
       "      <th>ticker</th>\n",
       "      <th>company_name</th>\n",
       "      <th>label</th>\n",
       "      <th>category</th>\n",
       "      <th>span</th>\n",
       "      <th>calendar_period</th>\n",
       "      <th>fiscal_period</th>\n",
       "      <th>fiscal_date</th>\n",
       "      <th>...</th>\n",
       "      <th>value_normalized</th>\n",
       "      <th>source_link</th>\n",
       "      <th>series_id</th>\n",
       "      <th>filing_date</th>\n",
       "      <th>series_id_relations</th>\n",
       "      <th>series_tag</th>\n",
       "      <th>restated</th>\n",
       "      <th>title</th>\n",
       "      <th>capiq_ticker</th>\n",
       "      <th>is_transition_period</th>\n",
       "    </tr>\n",
       "  </thead>\n",
       "  <tbody>\n",
       "    <tr>\n",
       "      <th>0</th>\n",
       "      <td>5068</td>\n",
       "      <td>44686049</td>\n",
       "      <td>SIVB</td>\n",
       "      <td>Svb Financial Group</td>\n",
       "      <td>Cash and cash equivalents</td>\n",
       "      <td>Balance sheet</td>\n",
       "      <td>quarterly</td>\n",
       "      <td>2013Q1</td>\n",
       "      <td>2013Q1</td>\n",
       "      <td>2013-03-31</td>\n",
       "      <td>...</td>\n",
       "      <td>1519.249</td>\n",
       "      <td>https://www.daloopa.com/src/44686049</td>\n",
       "      <td>3351229</td>\n",
       "      <td>2013-04-25</td>\n",
       "      <td>NaN</td>\n",
       "      <td>NaN</td>\n",
       "      <td>False</td>\n",
       "      <td>Balance sheet | Assets: | Investment securitie...</td>\n",
       "      <td>NasdaqGS:SIVB</td>\n",
       "      <td>False</td>\n",
       "    </tr>\n",
       "    <tr>\n",
       "      <th>1</th>\n",
       "      <td>5069</td>\n",
       "      <td>44686431</td>\n",
       "      <td>SIVB</td>\n",
       "      <td>Svb Financial Group</td>\n",
       "      <td>Cash and cash equivalents</td>\n",
       "      <td>Balance sheet</td>\n",
       "      <td>quarterly</td>\n",
       "      <td>2013Q2</td>\n",
       "      <td>2013Q2</td>\n",
       "      <td>2013-06-30</td>\n",
       "      <td>...</td>\n",
       "      <td>873.251</td>\n",
       "      <td>https://www.daloopa.com/src/44686431</td>\n",
       "      <td>3351229</td>\n",
       "      <td>2013-07-25</td>\n",
       "      <td>NaN</td>\n",
       "      <td>NaN</td>\n",
       "      <td>False</td>\n",
       "      <td>Balance sheet | Assets: | Investment securitie...</td>\n",
       "      <td>NasdaqGS:SIVB</td>\n",
       "      <td>False</td>\n",
       "    </tr>\n",
       "    <tr>\n",
       "      <th>2</th>\n",
       "      <td>5070</td>\n",
       "      <td>44686641</td>\n",
       "      <td>SIVB</td>\n",
       "      <td>Svb Financial Group</td>\n",
       "      <td>Cash and cash equivalents</td>\n",
       "      <td>Balance sheet</td>\n",
       "      <td>quarterly</td>\n",
       "      <td>2013Q3</td>\n",
       "      <td>2013Q3</td>\n",
       "      <td>2013-09-30</td>\n",
       "      <td>...</td>\n",
       "      <td>1942.744</td>\n",
       "      <td>https://www.daloopa.com/src/44686641</td>\n",
       "      <td>3351229</td>\n",
       "      <td>2013-10-24</td>\n",
       "      <td>NaN</td>\n",
       "      <td>NaN</td>\n",
       "      <td>False</td>\n",
       "      <td>Balance sheet | Assets: | Investment securitie...</td>\n",
       "      <td>NasdaqGS:SIVB</td>\n",
       "      <td>False</td>\n",
       "    </tr>\n",
       "    <tr>\n",
       "      <th>3</th>\n",
       "      <td>5071</td>\n",
       "      <td>44688448</td>\n",
       "      <td>SIVB</td>\n",
       "      <td>Svb Financial Group</td>\n",
       "      <td>Cash and cash equivalents</td>\n",
       "      <td>Balance sheet</td>\n",
       "      <td>quarterly</td>\n",
       "      <td>2013Q4</td>\n",
       "      <td>2013Q4</td>\n",
       "      <td>2013-12-31</td>\n",
       "      <td>...</td>\n",
       "      <td>1538.779</td>\n",
       "      <td>https://www.daloopa.com/src/44688448</td>\n",
       "      <td>3351229</td>\n",
       "      <td>2014-01-23</td>\n",
       "      <td>NaN</td>\n",
       "      <td>NaN</td>\n",
       "      <td>False</td>\n",
       "      <td>Balance sheet | Assets: | Investment securitie...</td>\n",
       "      <td>NasdaqGS:SIVB</td>\n",
       "      <td>False</td>\n",
       "    </tr>\n",
       "    <tr>\n",
       "      <th>4</th>\n",
       "      <td>5072</td>\n",
       "      <td>44688368</td>\n",
       "      <td>SIVB</td>\n",
       "      <td>Svb Financial Group</td>\n",
       "      <td>Cash and cash equivalents</td>\n",
       "      <td>Balance sheet</td>\n",
       "      <td>quarterly</td>\n",
       "      <td>2014Q1</td>\n",
       "      <td>2014Q1</td>\n",
       "      <td>2014-03-31</td>\n",
       "      <td>...</td>\n",
       "      <td>3862.464</td>\n",
       "      <td>https://www.daloopa.com/src/44688368</td>\n",
       "      <td>3351229</td>\n",
       "      <td>2014-04-24</td>\n",
       "      <td>NaN</td>\n",
       "      <td>NaN</td>\n",
       "      <td>False</td>\n",
       "      <td>Balance sheet | Assets: | Investment securitie...</td>\n",
       "      <td>NasdaqGS:SIVB</td>\n",
       "      <td>False</td>\n",
       "    </tr>\n",
       "  </tbody>\n",
       "</table>\n",
       "<p>5 rows × 23 columns</p>\n",
       "</div>"
      ],
      "text/plain": [
       "   index        id ticker         company_name                      label  \\\n",
       "0   5068  44686049   SIVB  Svb Financial Group  Cash and cash equivalents   \n",
       "1   5069  44686431   SIVB  Svb Financial Group  Cash and cash equivalents   \n",
       "2   5070  44686641   SIVB  Svb Financial Group  Cash and cash equivalents   \n",
       "3   5071  44688448   SIVB  Svb Financial Group  Cash and cash equivalents   \n",
       "4   5072  44688368   SIVB  Svb Financial Group  Cash and cash equivalents   \n",
       "\n",
       "        category       span calendar_period fiscal_period fiscal_date  ...  \\\n",
       "0  Balance sheet  quarterly          2013Q1        2013Q1  2013-03-31  ...   \n",
       "1  Balance sheet  quarterly          2013Q2        2013Q2  2013-06-30  ...   \n",
       "2  Balance sheet  quarterly          2013Q3        2013Q3  2013-09-30  ...   \n",
       "3  Balance sheet  quarterly          2013Q4        2013Q4  2013-12-31  ...   \n",
       "4  Balance sheet  quarterly          2014Q1        2014Q1  2014-03-31  ...   \n",
       "\n",
       "  value_normalized                           source_link  series_id  \\\n",
       "0         1519.249  https://www.daloopa.com/src/44686049    3351229   \n",
       "1          873.251  https://www.daloopa.com/src/44686431    3351229   \n",
       "2         1942.744  https://www.daloopa.com/src/44686641    3351229   \n",
       "3         1538.779  https://www.daloopa.com/src/44688448    3351229   \n",
       "4         3862.464  https://www.daloopa.com/src/44688368    3351229   \n",
       "\n",
       "   filing_date series_id_relations  series_tag restated  \\\n",
       "0   2013-04-25                 NaN         NaN    False   \n",
       "1   2013-07-25                 NaN         NaN    False   \n",
       "2   2013-10-24                 NaN         NaN    False   \n",
       "3   2014-01-23                 NaN         NaN    False   \n",
       "4   2014-04-24                 NaN         NaN    False   \n",
       "\n",
       "                                               title   capiq_ticker  \\\n",
       "0  Balance sheet | Assets: | Investment securitie...  NasdaqGS:SIVB   \n",
       "1  Balance sheet | Assets: | Investment securitie...  NasdaqGS:SIVB   \n",
       "2  Balance sheet | Assets: | Investment securitie...  NasdaqGS:SIVB   \n",
       "3  Balance sheet | Assets: | Investment securitie...  NasdaqGS:SIVB   \n",
       "4  Balance sheet | Assets: | Investment securitie...  NasdaqGS:SIVB   \n",
       "\n",
       "   is_transition_period  \n",
       "0                 False  \n",
       "1                 False  \n",
       "2                 False  \n",
       "3                 False  \n",
       "4                 False  \n",
       "\n",
       "[5 rows x 23 columns]"
      ]
     },
     "execution_count": 8,
     "metadata": {},
     "output_type": "execute_result"
    }
   ],
   "source": [
    "df_assets.head()"
   ]
  },
  {
   "cell_type": "code",
   "execution_count": 9,
   "id": "4e4a7863",
   "metadata": {},
   "outputs": [
    {
     "data": {
      "text/html": [
       "<div>\n",
       "<style scoped>\n",
       "    .dataframe tbody tr th:only-of-type {\n",
       "        vertical-align: middle;\n",
       "    }\n",
       "\n",
       "    .dataframe tbody tr th {\n",
       "        vertical-align: top;\n",
       "    }\n",
       "\n",
       "    .dataframe thead th {\n",
       "        text-align: right;\n",
       "    }\n",
       "</style>\n",
       "<table border=\"1\" class=\"dataframe\">\n",
       "  <thead>\n",
       "    <tr style=\"text-align: right;\">\n",
       "      <th>filing_date</th>\n",
       "      <th>label</th>\n",
       "      <th>2013-04-25</th>\n",
       "      <th>2013-07-25</th>\n",
       "      <th>2013-10-24</th>\n",
       "      <th>2014-01-23</th>\n",
       "      <th>2014-04-24</th>\n",
       "      <th>2014-07-24</th>\n",
       "      <th>2014-10-23</th>\n",
       "      <th>2015-01-22</th>\n",
       "      <th>2015-04-23</th>\n",
       "      <th>...</th>\n",
       "      <th>2020-10-22</th>\n",
       "      <th>2021-01-21</th>\n",
       "      <th>2021-04-22</th>\n",
       "      <th>2021-07-22</th>\n",
       "      <th>2021-10-21</th>\n",
       "      <th>2022-01-20</th>\n",
       "      <th>2022-04-21</th>\n",
       "      <th>2022-07-02</th>\n",
       "      <th>2022-10-20</th>\n",
       "      <th>2023-01-19</th>\n",
       "    </tr>\n",
       "  </thead>\n",
       "  <tbody>\n",
       "    <tr>\n",
       "      <th>0</th>\n",
       "      <td>Accrued interest receivable and other assets</td>\n",
       "      <td>354.402</td>\n",
       "      <td>413.639</td>\n",
       "      <td>397.432</td>\n",
       "      <td>465.110</td>\n",
       "      <td>458.531</td>\n",
       "      <td>465.792</td>\n",
       "      <td>506.964</td>\n",
       "      <td>559.231</td>\n",
       "      <td>762.971</td>\n",
       "      <td>...</td>\n",
       "      <td>2316.979</td>\n",
       "      <td>3205.825</td>\n",
       "      <td>4184.114</td>\n",
       "      <td>2650.000</td>\n",
       "      <td>2074.000</td>\n",
       "      <td>1928.000</td>\n",
       "      <td>3088.000</td>\n",
       "      <td>2777.000</td>\n",
       "      <td>3523.000</td>\n",
       "      <td>3082.000</td>\n",
       "    </tr>\n",
       "    <tr>\n",
       "      <th>1</th>\n",
       "      <td>Allowance for credit losses loans</td>\n",
       "      <td>-112.205</td>\n",
       "      <td>-119.571</td>\n",
       "      <td>-124.734</td>\n",
       "      <td>-142.886</td>\n",
       "      <td>-123.542</td>\n",
       "      <td>-120.728</td>\n",
       "      <td>-129.061</td>\n",
       "      <td>-165.359</td>\n",
       "      <td>-167.875</td>\n",
       "      <td>...</td>\n",
       "      <td>-512.958</td>\n",
       "      <td>-447.765</td>\n",
       "      <td>-391.751</td>\n",
       "      <td>-396.000</td>\n",
       "      <td>-398.000</td>\n",
       "      <td>-422.000</td>\n",
       "      <td>-421.000</td>\n",
       "      <td>-545.000</td>\n",
       "      <td>-557.000</td>\n",
       "      <td>-636.000</td>\n",
       "    </tr>\n",
       "    <tr>\n",
       "      <th>2</th>\n",
       "      <td>Available-for-sale securities, at fair value</td>\n",
       "      <td>10908.163</td>\n",
       "      <td>10043.341</td>\n",
       "      <td>10209.917</td>\n",
       "      <td>11986.821</td>\n",
       "      <td>12843.099</td>\n",
       "      <td>11672.790</td>\n",
       "      <td>13333.436</td>\n",
       "      <td>13540.655</td>\n",
       "      <td>13746.923</td>\n",
       "      <td>...</td>\n",
       "      <td>25904.324</td>\n",
       "      <td>30912.438</td>\n",
       "      <td>25986.471</td>\n",
       "      <td>23876.000</td>\n",
       "      <td>22984.000</td>\n",
       "      <td>27221.000</td>\n",
       "      <td>25991.000</td>\n",
       "      <td>26223.000</td>\n",
       "      <td>26711.000</td>\n",
       "      <td>26069.000</td>\n",
       "    </tr>\n",
       "    <tr>\n",
       "      <th>3</th>\n",
       "      <td>Cash and cash equivalents</td>\n",
       "      <td>1519.249</td>\n",
       "      <td>873.251</td>\n",
       "      <td>1942.744</td>\n",
       "      <td>1538.779</td>\n",
       "      <td>3862.464</td>\n",
       "      <td>2649.831</td>\n",
       "      <td>1872.537</td>\n",
       "      <td>1796.062</td>\n",
       "      <td>1308.003</td>\n",
       "      <td>...</td>\n",
       "      <td>15687.776</td>\n",
       "      <td>17674.763</td>\n",
       "      <td>21254.859</td>\n",
       "      <td>23959.000</td>\n",
       "      <td>18940.000</td>\n",
       "      <td>14619.000</td>\n",
       "      <td>20606.000</td>\n",
       "      <td>15398.000</td>\n",
       "      <td>13968.000</td>\n",
       "      <td>13803.000</td>\n",
       "    </tr>\n",
       "    <tr>\n",
       "      <th>4</th>\n",
       "      <td>Goodwill</td>\n",
       "      <td>NaN</td>\n",
       "      <td>NaN</td>\n",
       "      <td>NaN</td>\n",
       "      <td>NaN</td>\n",
       "      <td>NaN</td>\n",
       "      <td>NaN</td>\n",
       "      <td>NaN</td>\n",
       "      <td>NaN</td>\n",
       "      <td>NaN</td>\n",
       "      <td>...</td>\n",
       "      <td>137.823</td>\n",
       "      <td>142.685</td>\n",
       "      <td>142.685</td>\n",
       "      <td>143.000</td>\n",
       "      <td>344.000</td>\n",
       "      <td>375.000</td>\n",
       "      <td>375.000</td>\n",
       "      <td>375.000</td>\n",
       "      <td>375.000</td>\n",
       "      <td>375.000</td>\n",
       "    </tr>\n",
       "  </tbody>\n",
       "</table>\n",
       "<p>5 rows × 41 columns</p>\n",
       "</div>"
      ],
      "text/plain": [
       "filing_date                                         label  2013-04-25  \\\n",
       "0            Accrued interest receivable and other assets     354.402   \n",
       "1                       Allowance for credit losses loans    -112.205   \n",
       "2            Available-for-sale securities, at fair value   10908.163   \n",
       "3                               Cash and cash equivalents    1519.249   \n",
       "4                                                Goodwill         NaN   \n",
       "\n",
       "filing_date  2013-07-25  2013-10-24  2014-01-23  2014-04-24  2014-07-24  \\\n",
       "0               413.639     397.432     465.110     458.531     465.792   \n",
       "1              -119.571    -124.734    -142.886    -123.542    -120.728   \n",
       "2             10043.341   10209.917   11986.821   12843.099   11672.790   \n",
       "3               873.251    1942.744    1538.779    3862.464    2649.831   \n",
       "4                   NaN         NaN         NaN         NaN         NaN   \n",
       "\n",
       "filing_date  2014-10-23  2015-01-22  2015-04-23  ...  2020-10-22  2021-01-21  \\\n",
       "0               506.964     559.231     762.971  ...    2316.979    3205.825   \n",
       "1              -129.061    -165.359    -167.875  ...    -512.958    -447.765   \n",
       "2             13333.436   13540.655   13746.923  ...   25904.324   30912.438   \n",
       "3              1872.537    1796.062    1308.003  ...   15687.776   17674.763   \n",
       "4                   NaN         NaN         NaN  ...     137.823     142.685   \n",
       "\n",
       "filing_date  2021-04-22  2021-07-22  2021-10-21  2022-01-20  2022-04-21  \\\n",
       "0              4184.114    2650.000    2074.000    1928.000    3088.000   \n",
       "1              -391.751    -396.000    -398.000    -422.000    -421.000   \n",
       "2             25986.471   23876.000   22984.000   27221.000   25991.000   \n",
       "3             21254.859   23959.000   18940.000   14619.000   20606.000   \n",
       "4               142.685     143.000     344.000     375.000     375.000   \n",
       "\n",
       "filing_date  2022-07-02  2022-10-20  2023-01-19  \n",
       "0              2777.000    3523.000    3082.000  \n",
       "1              -545.000    -557.000    -636.000  \n",
       "2             26223.000   26711.000   26069.000  \n",
       "3             15398.000   13968.000   13803.000  \n",
       "4               375.000     375.000     375.000  \n",
       "\n",
       "[5 rows x 41 columns]"
      ]
     },
     "execution_count": 9,
     "metadata": {},
     "output_type": "execute_result"
    }
   ],
   "source": [
    "df_assets.pivot(index='label',columns = 'filing_date',values='value_normalized').reset_index().head()"
   ]
  },
  {
   "cell_type": "code",
   "execution_count": 10,
   "id": "d2c9913e",
   "metadata": {},
   "outputs": [
    {
     "data": {
      "text/html": [
       "<div>\n",
       "<style scoped>\n",
       "    .dataframe tbody tr th:only-of-type {\n",
       "        vertical-align: middle;\n",
       "    }\n",
       "\n",
       "    .dataframe tbody tr th {\n",
       "        vertical-align: top;\n",
       "    }\n",
       "\n",
       "    .dataframe thead th {\n",
       "        text-align: right;\n",
       "    }\n",
       "</style>\n",
       "<table border=\"1\" class=\"dataframe\">\n",
       "  <thead>\n",
       "    <tr style=\"text-align: right;\">\n",
       "      <th>filing_date</th>\n",
       "      <th>label</th>\n",
       "      <th>2013-04-25</th>\n",
       "      <th>2013-07-25</th>\n",
       "      <th>2013-10-24</th>\n",
       "      <th>2014-01-23</th>\n",
       "      <th>2014-04-24</th>\n",
       "      <th>2014-07-24</th>\n",
       "      <th>2014-10-23</th>\n",
       "      <th>2015-01-22</th>\n",
       "      <th>2015-04-23</th>\n",
       "      <th>...</th>\n",
       "      <th>2020-10-22</th>\n",
       "      <th>2021-01-21</th>\n",
       "      <th>2021-04-22</th>\n",
       "      <th>2021-07-22</th>\n",
       "      <th>2021-10-21</th>\n",
       "      <th>2022-01-20</th>\n",
       "      <th>2022-04-21</th>\n",
       "      <th>2022-07-02</th>\n",
       "      <th>2022-10-20</th>\n",
       "      <th>2023-01-19</th>\n",
       "    </tr>\n",
       "  </thead>\n",
       "  <tbody>\n",
       "    <tr>\n",
       "      <th>0</th>\n",
       "      <td>Interest-bearing deposits</td>\n",
       "      <td>-5271.321</td>\n",
       "      <td>-5476.516</td>\n",
       "      <td>-5891.263</td>\n",
       "      <td>-6578.619</td>\n",
       "      <td>-7162.075</td>\n",
       "      <td>-8116.998</td>\n",
       "      <td>-8662.067</td>\n",
       "      <td>-9759.817</td>\n",
       "      <td>-8134.989</td>\n",
       "      <td>...</td>\n",
       "      <td>-27264.791</td>\n",
       "      <td>-35462.567</td>\n",
       "      <td>-39710.109</td>\n",
       "      <td>-44579.000</td>\n",
       "      <td>-55794.000</td>\n",
       "      <td>-63352.000</td>\n",
       "      <td>-70137.000</td>\n",
       "      <td>-73976.000</td>\n",
       "      <td>-82831.000</td>\n",
       "      <td>-92356.000</td>\n",
       "    </tr>\n",
       "    <tr>\n",
       "      <th>1</th>\n",
       "      <td>Lease liabilities</td>\n",
       "      <td>NaN</td>\n",
       "      <td>NaN</td>\n",
       "      <td>NaN</td>\n",
       "      <td>NaN</td>\n",
       "      <td>NaN</td>\n",
       "      <td>NaN</td>\n",
       "      <td>NaN</td>\n",
       "      <td>NaN</td>\n",
       "      <td>NaN</td>\n",
       "      <td>...</td>\n",
       "      <td>-246.652</td>\n",
       "      <td>-259.554</td>\n",
       "      <td>-287.413</td>\n",
       "      <td>-277.000</td>\n",
       "      <td>-390.000</td>\n",
       "      <td>-388.000</td>\n",
       "      <td>-374.000</td>\n",
       "      <td>-377.000</td>\n",
       "      <td>-429.000</td>\n",
       "      <td>-413.000</td>\n",
       "    </tr>\n",
       "    <tr>\n",
       "      <th>2</th>\n",
       "      <td>Long-term debt</td>\n",
       "      <td>-457.194</td>\n",
       "      <td>-455.938</td>\n",
       "      <td>-455.744</td>\n",
       "      <td>-455.216</td>\n",
       "      <td>-454.770</td>\n",
       "      <td>-454.462</td>\n",
       "      <td>-453.764</td>\n",
       "      <td>-453.443</td>\n",
       "      <td>-802.917</td>\n",
       "      <td>...</td>\n",
       "      <td>-843.430</td>\n",
       "      <td>-843.628</td>\n",
       "      <td>-1338.183</td>\n",
       "      <td>-1834.000</td>\n",
       "      <td>-1925.000</td>\n",
       "      <td>-2570.000</td>\n",
       "      <td>-2571.000</td>\n",
       "      <td>-3367.000</td>\n",
       "      <td>-3368.000</td>\n",
       "      <td>-5370.000</td>\n",
       "    </tr>\n",
       "    <tr>\n",
       "      <th>3</th>\n",
       "      <td>Non-Interest-bearing demand deposits</td>\n",
       "      <td>-14038.587</td>\n",
       "      <td>-13213.558</td>\n",
       "      <td>-14105.728</td>\n",
       "      <td>-15894.360</td>\n",
       "      <td>-18314.830</td>\n",
       "      <td>-20235.549</td>\n",
       "      <td>-22461.068</td>\n",
       "      <td>-24583.682</td>\n",
       "      <td>-25716.586</td>\n",
       "      <td>...</td>\n",
       "      <td>-57508.229</td>\n",
       "      <td>-66519.240</td>\n",
       "      <td>-84439.997</td>\n",
       "      <td>-101259.000</td>\n",
       "      <td>-115388.000</td>\n",
       "      <td>-125851.000</td>\n",
       "      <td>-127997.000</td>\n",
       "      <td>-113969.000</td>\n",
       "      <td>-93988.000</td>\n",
       "      <td>-80753.000</td>\n",
       "    </tr>\n",
       "    <tr>\n",
       "      <th>4</th>\n",
       "      <td>Other liabilities</td>\n",
       "      <td>-359.380</td>\n",
       "      <td>-330.394</td>\n",
       "      <td>-358.905</td>\n",
       "      <td>-404.586</td>\n",
       "      <td>-407.573</td>\n",
       "      <td>-559.073</td>\n",
       "      <td>-517.462</td>\n",
       "      <td>-483.493</td>\n",
       "      <td>-686.501</td>\n",
       "      <td>...</td>\n",
       "      <td>-3067.221</td>\n",
       "      <td>-3971.974</td>\n",
       "      <td>-6411.705</td>\n",
       "      <td>-3449.000</td>\n",
       "      <td>-2733.000</td>\n",
       "      <td>-2587.000</td>\n",
       "      <td>-2817.000</td>\n",
       "      <td>-2721.000</td>\n",
       "      <td>-2889.000</td>\n",
       "      <td>-3041.000</td>\n",
       "    </tr>\n",
       "  </tbody>\n",
       "</table>\n",
       "<p>5 rows × 41 columns</p>\n",
       "</div>"
      ],
      "text/plain": [
       "filing_date                                 label  2013-04-25  2013-07-25  \\\n",
       "0                       Interest-bearing deposits   -5271.321   -5476.516   \n",
       "1                               Lease liabilities         NaN         NaN   \n",
       "2                                  Long-term debt    -457.194    -455.938   \n",
       "3            Non-Interest-bearing demand deposits  -14038.587  -13213.558   \n",
       "4                               Other liabilities    -359.380    -330.394   \n",
       "\n",
       "filing_date  2013-10-24  2014-01-23  2014-04-24  2014-07-24  2014-10-23  \\\n",
       "0             -5891.263   -6578.619   -7162.075   -8116.998   -8662.067   \n",
       "1                   NaN         NaN         NaN         NaN         NaN   \n",
       "2              -455.744    -455.216    -454.770    -454.462    -453.764   \n",
       "3            -14105.728  -15894.360  -18314.830  -20235.549  -22461.068   \n",
       "4              -358.905    -404.586    -407.573    -559.073    -517.462   \n",
       "\n",
       "filing_date  2015-01-22  2015-04-23  ...  2020-10-22  2021-01-21  2021-04-22  \\\n",
       "0             -9759.817   -8134.989  ...  -27264.791  -35462.567  -39710.109   \n",
       "1                   NaN         NaN  ...    -246.652    -259.554    -287.413   \n",
       "2              -453.443    -802.917  ...    -843.430    -843.628   -1338.183   \n",
       "3            -24583.682  -25716.586  ...  -57508.229  -66519.240  -84439.997   \n",
       "4              -483.493    -686.501  ...   -3067.221   -3971.974   -6411.705   \n",
       "\n",
       "filing_date  2021-07-22  2021-10-21  2022-01-20  2022-04-21  2022-07-02  \\\n",
       "0            -44579.000  -55794.000  -63352.000  -70137.000  -73976.000   \n",
       "1              -277.000    -390.000    -388.000    -374.000    -377.000   \n",
       "2             -1834.000   -1925.000   -2570.000   -2571.000   -3367.000   \n",
       "3           -101259.000 -115388.000 -125851.000 -127997.000 -113969.000   \n",
       "4             -3449.000   -2733.000   -2587.000   -2817.000   -2721.000   \n",
       "\n",
       "filing_date  2022-10-20  2023-01-19  \n",
       "0            -82831.000  -92356.000  \n",
       "1              -429.000    -413.000  \n",
       "2             -3368.000   -5370.000  \n",
       "3            -93988.000  -80753.000  \n",
       "4             -2889.000   -3041.000  \n",
       "\n",
       "[5 rows x 41 columns]"
      ]
     },
     "execution_count": 10,
     "metadata": {},
     "output_type": "execute_result"
    }
   ],
   "source": [
    "df_liabilities.pivot(index='label',columns = 'filing_date',values='value_normalized').reset_index().head()"
   ]
  },
  {
   "cell_type": "code",
   "execution_count": 11,
   "id": "038f206d",
   "metadata": {},
   "outputs": [],
   "source": [
    "df_assets_plot = df_assets.pivot(index = 'filing_date',columns = 'label',values = 'value_normalized').reset_index()"
   ]
  },
  {
   "cell_type": "code",
   "execution_count": 12,
   "id": "e87d229b",
   "metadata": {},
   "outputs": [],
   "source": [
    "df_liabilities_plot = df_liabilities.pivot(index = 'filing_date',columns = 'label',values = 'value_normalized').reset_index()"
   ]
  },
  {
   "cell_type": "code",
   "execution_count": 13,
   "id": "07ac27f8",
   "metadata": {},
   "outputs": [
    {
     "data": {
      "text/plain": [
       "['Cash and cash equivalents',\n",
       " 'Available-for-sale securities, at fair value',\n",
       " 'Held-to-maturity securities, at amortized cost and, net of allowance for credit losses\\xa0',\n",
       " 'Non-marketable and other equity securities',\n",
       " 'Investment securities',\n",
       " 'Loans amortized cost',\n",
       " 'Allowance for credit losses loans',\n",
       " 'Net loans',\n",
       " 'Goodwill',\n",
       " 'Premises and equipment, net of accumulated depreciation and amortization',\n",
       " 'Other intangible assets, net',\n",
       " 'Lease right-of-use assets',\n",
       " 'Accrued interest receivable and other assets']"
      ]
     },
     "execution_count": 13,
     "metadata": {},
     "output_type": "execute_result"
    }
   ],
   "source": [
    "assets_list"
   ]
  },
  {
   "cell_type": "code",
   "execution_count": 53,
   "id": "4296dcb7",
   "metadata": {},
   "outputs": [
    {
     "data": {
      "application/vnd.plotly.v1+json": {
       "config": {
        "plotlyServerURL": "https://plot.ly"
       },
       "data": [
        {
         "alignmentgroup": "True",
         "hovertemplate": "label=Cash and cash equivalents<br>filing_date=%{x}<br>value_normalized=%{y}<extra></extra>",
         "legendgroup": "Cash and cash equivalents",
         "marker": {
          "color": "#636efa",
          "pattern": {
           "shape": ""
          }
         },
         "name": "Cash and cash equivalents",
         "offsetgroup": "Cash and cash equivalents",
         "orientation": "v",
         "showlegend": true,
         "textposition": "auto",
         "type": "bar",
         "x": [
          "2018-01-25",
          "2018-04-26",
          "2018-07-26",
          "2018-10-25",
          "2019-01-24",
          "2019-04-25",
          "2019-07-25",
          "2019-10-25",
          "2020-01-23",
          "2020-04-23",
          "2020-07-23",
          "2020-10-22",
          "2021-01-21",
          "2021-04-22",
          "2021-07-22",
          "2021-10-21",
          "2022-01-20",
          "2022-04-21",
          "2022-07-02",
          "2022-10-20",
          "2023-01-19"
         ],
         "xaxis": "x",
         "y": [
          2923.075,
          2619.384,
          2712.101,
          3819.141,
          3571.539,
          7066.883,
          9020.925,
          6946.196,
          6781.783,
          9561.448,
          14332.966,
          15687.776,
          17674.763,
          21254.859,
          23959,
          18940,
          14619,
          20606,
          15398,
          13968,
          13803
         ],
         "yaxis": "y"
        },
        {
         "alignmentgroup": "True",
         "hovertemplate": "label=Available-for-sale securities, at fair value<br>filing_date=%{x}<br>value_normalized=%{y}<extra></extra>",
         "legendgroup": "Available-for-sale securities, at fair value",
         "marker": {
          "color": "#EF553B",
          "pattern": {
           "shape": ""
          }
         },
         "name": "Available-for-sale securities, at fair value",
         "offsetgroup": "Available-for-sale securities, at fair value",
         "orientation": "v",
         "showlegend": true,
         "textposition": "auto",
         "type": "bar",
         "x": [
          "2018-01-25",
          "2018-04-26",
          "2018-07-26",
          "2018-10-25",
          "2019-01-24",
          "2019-04-25",
          "2019-07-25",
          "2019-10-25",
          "2020-01-23",
          "2020-04-23",
          "2020-07-23",
          "2020-10-22",
          "2021-01-21",
          "2021-04-22",
          "2021-07-22",
          "2021-10-21",
          "2022-01-20",
          "2022-04-21",
          "2022-07-02",
          "2022-10-20",
          "2023-01-19"
         ],
         "xaxis": "x",
         "y": [
          11120.664,
          10080.384,
          9593.366,
          9087.609,
          7790.043,
          6755.094,
          7940.322,
          12866.857,
          14014.919,
          12648.064,
          18451.913,
          25904.324,
          30912.438,
          25986.471,
          23876,
          22984,
          27221,
          25991,
          26223,
          26711,
          26069
         ],
         "yaxis": "y"
        },
        {
         "alignmentgroup": "True",
         "hovertemplate": "label=Held-to-maturity securities, at amortized cost and, net of allowance for credit losses <br>filing_date=%{x}<br>value_normalized=%{y}<extra></extra>",
         "legendgroup": "Held-to-maturity securities, at amortized cost and, net of allowance for credit losses ",
         "marker": {
          "color": "#00cc96",
          "pattern": {
           "shape": ""
          }
         },
         "name": "Held-to-maturity securities, at amortized cost and, net of allowance for credit losses ",
         "offsetgroup": "Held-to-maturity securities, at amortized cost and, net of allowance for credit losses ",
         "orientation": "v",
         "showlegend": true,
         "textposition": "auto",
         "type": "bar",
         "x": [
          "2018-01-25",
          "2018-04-26",
          "2018-07-26",
          "2018-10-25",
          "2019-01-24",
          "2019-04-25",
          "2019-07-25",
          "2019-10-25",
          "2020-01-23",
          "2020-04-23",
          "2020-07-23",
          "2020-10-22",
          "2021-01-21",
          "2021-04-22",
          "2021-07-22",
          "2021-10-21",
          "2022-01-20",
          "2022-04-21",
          "2022-07-02",
          "2022-10-20",
          "2023-01-19"
         ],
         "xaxis": "x",
         "y": [
          12663.455,
          14548.856,
          15898.263,
          15899.726,
          15487.442,
          15055.255,
          14868.761,
          14407.078,
          13842.946,
          13574.289,
          12858.823,
          12982.223,
          16592.153,
          41164.62,
          59992,
          82365,
          98195,
          98707,
          95814,
          93286,
          91321
         ],
         "yaxis": "y"
        },
        {
         "alignmentgroup": "True",
         "hovertemplate": "label=Non-marketable and other equity securities<br>filing_date=%{x}<br>value_normalized=%{y}<extra></extra>",
         "legendgroup": "Non-marketable and other equity securities",
         "marker": {
          "color": "#ab63fa",
          "pattern": {
           "shape": ""
          }
         },
         "name": "Non-marketable and other equity securities",
         "offsetgroup": "Non-marketable and other equity securities",
         "orientation": "v",
         "showlegend": true,
         "textposition": "auto",
         "type": "bar",
         "x": [
          "2018-01-25",
          "2018-04-26",
          "2018-07-26",
          "2018-10-25",
          "2019-01-24",
          "2019-04-25",
          "2019-07-25",
          "2019-10-25",
          "2020-01-23",
          "2020-04-23",
          "2020-07-23",
          "2020-10-22",
          "2021-01-21",
          "2021-04-22",
          "2021-07-22",
          "2021-10-21",
          "2022-01-20",
          "2022-04-21",
          "2022-07-02",
          "2022-10-20",
          "2023-01-19"
         ],
         "xaxis": "x",
         "y": [
          651.053,
          824.936,
          852.505,
          896.249,
          941.104,
          974.979,
          1079.749,
          1150.094,
          1213.829,
          1200.595,
          1270.578,
          1547.363,
          1802.235,
          1857.761,
          1943,
          2485,
          2543,
          2605,
          2645,
          2595,
          2664
         ],
         "yaxis": "y"
        },
        {
         "alignmentgroup": "True",
         "hovertemplate": "label=Investment securities<br>filing_date=%{x}<br>value_normalized=%{y}<extra></extra>",
         "legendgroup": "Investment securities",
         "marker": {
          "color": "#FFA15A",
          "pattern": {
           "shape": ""
          }
         },
         "name": "Investment securities",
         "offsetgroup": "Investment securities",
         "orientation": "v",
         "showlegend": true,
         "textposition": "auto",
         "type": "bar",
         "x": [
          "2018-01-25",
          "2018-04-26",
          "2018-07-26",
          "2018-10-25",
          "2019-01-24",
          "2019-04-25",
          "2019-07-25",
          "2019-10-25",
          "2020-01-23",
          "2020-04-23",
          "2020-07-23",
          "2020-10-22",
          "2021-01-21",
          "2021-04-22",
          "2021-07-22",
          "2021-10-21",
          "2022-01-20",
          "2022-04-21",
          "2022-07-02",
          "2022-10-20",
          "2023-01-19"
         ],
         "xaxis": "x",
         "y": [
          24435.172,
          25454.176,
          26344.134,
          25883.584,
          24218.589,
          22785.328,
          23888.832,
          28424.029,
          29071.694,
          27422.948,
          32581.314,
          40433.91,
          49306.826,
          69008.852,
          85811,
          107834,
          127959,
          127303,
          124682,
          122592,
          120054
         ],
         "yaxis": "y"
        },
        {
         "alignmentgroup": "True",
         "hovertemplate": "label=Loans amortized cost<br>filing_date=%{x}<br>value_normalized=%{y}<extra></extra>",
         "legendgroup": "Loans amortized cost",
         "marker": {
          "color": "#19d3f3",
          "pattern": {
           "shape": ""
          }
         },
         "name": "Loans amortized cost",
         "offsetgroup": "Loans amortized cost",
         "orientation": "v",
         "showlegend": true,
         "textposition": "auto",
         "type": "bar",
         "x": [
          "2018-01-25",
          "2018-04-26",
          "2018-07-26",
          "2018-10-25",
          "2019-01-24",
          "2019-04-25",
          "2019-07-25",
          "2019-10-25",
          "2020-01-23",
          "2020-04-23",
          "2020-07-23",
          "2020-10-22",
          "2021-01-21",
          "2021-04-22",
          "2021-07-22",
          "2021-10-21",
          "2022-01-20",
          "2022-04-21",
          "2022-07-02",
          "2022-10-20",
          "2023-01-19"
         ],
         "xaxis": "x",
         "y": [
          23106.316,
          24587.944,
          25996.192,
          27494.915,
          28338.28,
          28850.445,
          29209.573,
          31063.994,
          33164.636,
          35968.085,
          36727.222,
          38413.891,
          45181.488,
          47675.166,
          50754,
          61487,
          66276,
          68665,
          70955,
          72129,
          74250
         ],
         "yaxis": "y"
        },
        {
         "alignmentgroup": "True",
         "hovertemplate": "label=Allowance for credit losses loans<br>filing_date=%{x}<br>value_normalized=%{y}<extra></extra>",
         "legendgroup": "Allowance for credit losses loans",
         "marker": {
          "color": "#FF6692",
          "pattern": {
           "shape": ""
          }
         },
         "name": "Allowance for credit losses loans",
         "offsetgroup": "Allowance for credit losses loans",
         "orientation": "v",
         "showlegend": true,
         "textposition": "auto",
         "type": "bar",
         "x": [
          "2018-01-25",
          "2018-04-26",
          "2018-07-26",
          "2018-10-25",
          "2019-01-24",
          "2019-04-25",
          "2019-07-25",
          "2019-10-25",
          "2020-01-23",
          "2020-04-23",
          "2020-07-23",
          "2020-10-22",
          "2021-01-21",
          "2021-04-22",
          "2021-07-22",
          "2021-10-21",
          "2022-01-20",
          "2022-04-21",
          "2022-07-02",
          "2022-10-20",
          "2023-01-19"
         ],
         "xaxis": "x",
         "y": [
          -255.024,
          -274.294,
          -286.709,
          -285.713,
          -280.903,
          -300.151,
          -301.888,
          -304.41,
          -304.924,
          -548.963,
          -589.828,
          -512.958,
          -447.765,
          -391.751,
          -396,
          -398,
          -422,
          -421,
          -545,
          -557,
          -636
         ],
         "yaxis": "y"
        },
        {
         "alignmentgroup": "True",
         "hovertemplate": "label=Net loans<br>filing_date=%{x}<br>value_normalized=%{y}<extra></extra>",
         "legendgroup": "Net loans",
         "marker": {
          "color": "#B6E880",
          "pattern": {
           "shape": ""
          }
         },
         "name": "Net loans",
         "offsetgroup": "Net loans",
         "orientation": "v",
         "showlegend": true,
         "textposition": "auto",
         "type": "bar",
         "x": [
          "2018-01-25",
          "2018-04-26",
          "2018-07-26",
          "2018-10-25",
          "2019-01-24",
          "2019-04-25",
          "2019-07-25",
          "2019-10-25",
          "2020-01-23",
          "2020-04-23",
          "2020-07-23",
          "2020-10-22",
          "2021-01-21",
          "2021-04-22",
          "2021-07-22",
          "2021-10-21",
          "2022-01-20",
          "2022-04-21",
          "2022-07-02",
          "2022-10-20",
          "2023-01-19"
         ],
         "xaxis": "x",
         "y": [
          22851.292,
          24313.65,
          25709.483,
          27209.202,
          28057.377,
          28550.294,
          28907.685,
          30759.584,
          32859.712,
          35419.122,
          36137.394,
          37900.933,
          44733.723,
          47283.415,
          50358,
          61089,
          65854,
          68244,
          70410,
          71572,
          73614
         ],
         "yaxis": "y"
        },
        {
         "alignmentgroup": "True",
         "hovertemplate": "label=Goodwill<br>filing_date=%{x}<br>value_normalized=%{y}<extra></extra>",
         "legendgroup": "Goodwill",
         "marker": {
          "color": "#FF97FF",
          "pattern": {
           "shape": ""
          }
         },
         "name": "Goodwill",
         "offsetgroup": "Goodwill",
         "orientation": "v",
         "showlegend": true,
         "textposition": "auto",
         "type": "bar",
         "x": [
          "2019-04-25",
          "2019-07-25",
          "2019-10-25",
          "2020-01-23",
          "2020-04-23",
          "2020-07-23",
          "2020-10-22",
          "2021-01-21",
          "2021-04-22",
          "2021-07-22",
          "2021-10-21",
          "2022-01-20",
          "2022-04-21",
          "2022-07-02",
          "2022-10-20",
          "2023-01-19"
         ],
         "xaxis": "x",
         "y": [
          135.19,
          137.823,
          137.823,
          137.823,
          137.823,
          137.823,
          137.823,
          142.685,
          142.685,
          143,
          344,
          375,
          375,
          375,
          375,
          375
         ],
         "yaxis": "y"
        },
        {
         "alignmentgroup": "True",
         "hovertemplate": "label=Premises and equipment, net of accumulated depreciation and amortization<br>filing_date=%{x}<br>value_normalized=%{y}<extra></extra>",
         "legendgroup": "Premises and equipment, net of accumulated depreciation and amortization",
         "marker": {
          "color": "#FECB52",
          "pattern": {
           "shape": ""
          }
         },
         "name": "Premises and equipment, net of accumulated depreciation and amortization",
         "offsetgroup": "Premises and equipment, net of accumulated depreciation and amortization",
         "orientation": "v",
         "showlegend": true,
         "textposition": "auto",
         "type": "bar",
         "x": [
          "2018-01-25",
          "2018-04-26",
          "2018-07-26",
          "2018-10-25",
          "2019-01-24",
          "2019-04-25",
          "2019-07-25",
          "2019-10-25",
          "2020-01-23",
          "2020-04-23",
          "2020-07-23",
          "2020-10-22",
          "2021-01-21",
          "2021-04-22",
          "2021-07-22",
          "2021-10-21",
          "2022-01-20",
          "2022-04-21",
          "2022-07-02",
          "2022-10-20",
          "2023-01-19"
         ],
         "xaxis": "x",
         "y": [
          128.682,
          127.054,
          117.603,
          121.89,
          129.213,
          139.003,
          141.888,
          146.713,
          161.876,
          154.78,
          169.313,
          173.477,
          175.818,
          179.674,
          196,
          247,
          270,
          283,
          294,
          346,
          394
         ],
         "yaxis": "y"
        },
        {
         "alignmentgroup": "True",
         "hovertemplate": "label=Other intangible assets, net<br>filing_date=%{x}<br>value_normalized=%{y}<extra></extra>",
         "legendgroup": "Other intangible assets, net",
         "marker": {
          "color": "#636efa",
          "pattern": {
           "shape": ""
          }
         },
         "name": "Other intangible assets, net",
         "offsetgroup": "Other intangible assets, net",
         "orientation": "v",
         "showlegend": true,
         "textposition": "auto",
         "type": "bar",
         "x": [
          "2019-04-25",
          "2019-07-25",
          "2019-10-25",
          "2020-01-23",
          "2020-04-23",
          "2020-07-23",
          "2020-10-22",
          "2021-01-21",
          "2021-04-22",
          "2021-07-22",
          "2021-10-21",
          "2022-01-20",
          "2022-04-21",
          "2022-07-02",
          "2022-10-20",
          "2023-01-19"
         ],
         "xaxis": "x",
         "y": [
          58.029,
          55.158,
          52.288,
          49.417,
          48.072,
          46.726,
          45.38,
          61.435,
          59.325,
          57,
          156,
          160,
          154,
          148,
          142,
          136
         ],
         "yaxis": "y"
        },
        {
         "alignmentgroup": "True",
         "hovertemplate": "label=Lease right-of-use assets<br>filing_date=%{x}<br>value_normalized=%{y}<extra></extra>",
         "legendgroup": "Lease right-of-use assets",
         "marker": {
          "color": "#EF553B",
          "pattern": {
           "shape": ""
          }
         },
         "name": "Lease right-of-use assets",
         "offsetgroup": "Lease right-of-use assets",
         "orientation": "v",
         "showlegend": true,
         "textposition": "auto",
         "type": "bar",
         "x": [
          "2019-04-25",
          "2019-07-25",
          "2019-10-25",
          "2020-01-23",
          "2020-04-23",
          "2020-07-23",
          "2020-10-22",
          "2021-01-21",
          "2021-04-22",
          "2021-07-22",
          "2021-10-21",
          "2022-01-20",
          "2022-04-21",
          "2022-07-02",
          "2022-10-20",
          "2023-01-19"
         ],
         "xaxis": "x",
         "y": [
          164.659,
          156.347,
          178.532,
          197.365,
          206.392,
          211.499,
          220.493,
          209.932,
          233.696,
          225,
          312,
          313,
          302,
          305,
          349,
          335
         ],
         "yaxis": "y"
        },
        {
         "alignmentgroup": "True",
         "hovertemplate": "label=Accrued interest receivable and other assets<br>filing_date=%{x}<br>value_normalized=%{y}<extra></extra>",
         "legendgroup": "Accrued interest receivable and other assets",
         "marker": {
          "color": "#00cc96",
          "pattern": {
           "shape": ""
          }
         },
         "name": "Accrued interest receivable and other assets",
         "offsetgroup": "Accrued interest receivable and other assets",
         "orientation": "v",
         "showlegend": true,
         "textposition": "auto",
         "type": "bar",
         "x": [
          "2018-01-25",
          "2018-04-26",
          "2018-07-26",
          "2018-10-25",
          "2019-01-24",
          "2019-04-25",
          "2019-07-25",
          "2019-10-25",
          "2020-01-23",
          "2020-04-23",
          "2020-07-23",
          "2020-10-22",
          "2021-01-21",
          "2021-04-22",
          "2021-07-22",
          "2021-10-21",
          "2022-01-20",
          "2022-04-21",
          "2022-07-02",
          "2022-10-20",
          "2023-01-19"
         ],
         "xaxis": "x",
         "y": [
          876.246,
          986.523,
          984.424,
          1105.917,
          951.261,
          1260.899,
          1465.081,
          1586.068,
          1745.233,
          2059.055,
          2244.972,
          2316.979,
          3205.825,
          4184.114,
          2650,
          2074,
          1928,
          3088,
          2777,
          3523,
          3082
         ],
         "yaxis": "y"
        }
       ],
       "layout": {
        "autosize": false,
        "barmode": "stack",
        "height": 500,
        "legend": {
         "title": {
          "text": "label"
         },
         "tracegroupgap": 0
        },
        "shapes": [
         {
          "type": "line",
          "x0": "2021-07-01",
          "x1": "2021-07-01",
          "xref": "x",
          "y0": 0,
          "y1": 1,
          "yref": "y domain"
         }
        ],
        "template": {
         "data": {
          "bar": [
           {
            "error_x": {
             "color": "#2a3f5f"
            },
            "error_y": {
             "color": "#2a3f5f"
            },
            "marker": {
             "line": {
              "color": "#E5ECF6",
              "width": 0.5
             },
             "pattern": {
              "fillmode": "overlay",
              "size": 10,
              "solidity": 0.2
             }
            },
            "type": "bar"
           }
          ],
          "barpolar": [
           {
            "marker": {
             "line": {
              "color": "#E5ECF6",
              "width": 0.5
             },
             "pattern": {
              "fillmode": "overlay",
              "size": 10,
              "solidity": 0.2
             }
            },
            "type": "barpolar"
           }
          ],
          "carpet": [
           {
            "aaxis": {
             "endlinecolor": "#2a3f5f",
             "gridcolor": "white",
             "linecolor": "white",
             "minorgridcolor": "white",
             "startlinecolor": "#2a3f5f"
            },
            "baxis": {
             "endlinecolor": "#2a3f5f",
             "gridcolor": "white",
             "linecolor": "white",
             "minorgridcolor": "white",
             "startlinecolor": "#2a3f5f"
            },
            "type": "carpet"
           }
          ],
          "choropleth": [
           {
            "colorbar": {
             "outlinewidth": 0,
             "ticks": ""
            },
            "type": "choropleth"
           }
          ],
          "contour": [
           {
            "colorbar": {
             "outlinewidth": 0,
             "ticks": ""
            },
            "colorscale": [
             [
              0,
              "#0d0887"
             ],
             [
              0.1111111111111111,
              "#46039f"
             ],
             [
              0.2222222222222222,
              "#7201a8"
             ],
             [
              0.3333333333333333,
              "#9c179e"
             ],
             [
              0.4444444444444444,
              "#bd3786"
             ],
             [
              0.5555555555555556,
              "#d8576b"
             ],
             [
              0.6666666666666666,
              "#ed7953"
             ],
             [
              0.7777777777777778,
              "#fb9f3a"
             ],
             [
              0.8888888888888888,
              "#fdca26"
             ],
             [
              1,
              "#f0f921"
             ]
            ],
            "type": "contour"
           }
          ],
          "contourcarpet": [
           {
            "colorbar": {
             "outlinewidth": 0,
             "ticks": ""
            },
            "type": "contourcarpet"
           }
          ],
          "heatmap": [
           {
            "colorbar": {
             "outlinewidth": 0,
             "ticks": ""
            },
            "colorscale": [
             [
              0,
              "#0d0887"
             ],
             [
              0.1111111111111111,
              "#46039f"
             ],
             [
              0.2222222222222222,
              "#7201a8"
             ],
             [
              0.3333333333333333,
              "#9c179e"
             ],
             [
              0.4444444444444444,
              "#bd3786"
             ],
             [
              0.5555555555555556,
              "#d8576b"
             ],
             [
              0.6666666666666666,
              "#ed7953"
             ],
             [
              0.7777777777777778,
              "#fb9f3a"
             ],
             [
              0.8888888888888888,
              "#fdca26"
             ],
             [
              1,
              "#f0f921"
             ]
            ],
            "type": "heatmap"
           }
          ],
          "heatmapgl": [
           {
            "colorbar": {
             "outlinewidth": 0,
             "ticks": ""
            },
            "colorscale": [
             [
              0,
              "#0d0887"
             ],
             [
              0.1111111111111111,
              "#46039f"
             ],
             [
              0.2222222222222222,
              "#7201a8"
             ],
             [
              0.3333333333333333,
              "#9c179e"
             ],
             [
              0.4444444444444444,
              "#bd3786"
             ],
             [
              0.5555555555555556,
              "#d8576b"
             ],
             [
              0.6666666666666666,
              "#ed7953"
             ],
             [
              0.7777777777777778,
              "#fb9f3a"
             ],
             [
              0.8888888888888888,
              "#fdca26"
             ],
             [
              1,
              "#f0f921"
             ]
            ],
            "type": "heatmapgl"
           }
          ],
          "histogram": [
           {
            "marker": {
             "pattern": {
              "fillmode": "overlay",
              "size": 10,
              "solidity": 0.2
             }
            },
            "type": "histogram"
           }
          ],
          "histogram2d": [
           {
            "colorbar": {
             "outlinewidth": 0,
             "ticks": ""
            },
            "colorscale": [
             [
              0,
              "#0d0887"
             ],
             [
              0.1111111111111111,
              "#46039f"
             ],
             [
              0.2222222222222222,
              "#7201a8"
             ],
             [
              0.3333333333333333,
              "#9c179e"
             ],
             [
              0.4444444444444444,
              "#bd3786"
             ],
             [
              0.5555555555555556,
              "#d8576b"
             ],
             [
              0.6666666666666666,
              "#ed7953"
             ],
             [
              0.7777777777777778,
              "#fb9f3a"
             ],
             [
              0.8888888888888888,
              "#fdca26"
             ],
             [
              1,
              "#f0f921"
             ]
            ],
            "type": "histogram2d"
           }
          ],
          "histogram2dcontour": [
           {
            "colorbar": {
             "outlinewidth": 0,
             "ticks": ""
            },
            "colorscale": [
             [
              0,
              "#0d0887"
             ],
             [
              0.1111111111111111,
              "#46039f"
             ],
             [
              0.2222222222222222,
              "#7201a8"
             ],
             [
              0.3333333333333333,
              "#9c179e"
             ],
             [
              0.4444444444444444,
              "#bd3786"
             ],
             [
              0.5555555555555556,
              "#d8576b"
             ],
             [
              0.6666666666666666,
              "#ed7953"
             ],
             [
              0.7777777777777778,
              "#fb9f3a"
             ],
             [
              0.8888888888888888,
              "#fdca26"
             ],
             [
              1,
              "#f0f921"
             ]
            ],
            "type": "histogram2dcontour"
           }
          ],
          "mesh3d": [
           {
            "colorbar": {
             "outlinewidth": 0,
             "ticks": ""
            },
            "type": "mesh3d"
           }
          ],
          "parcoords": [
           {
            "line": {
             "colorbar": {
              "outlinewidth": 0,
              "ticks": ""
             }
            },
            "type": "parcoords"
           }
          ],
          "pie": [
           {
            "automargin": true,
            "type": "pie"
           }
          ],
          "scatter": [
           {
            "marker": {
             "colorbar": {
              "outlinewidth": 0,
              "ticks": ""
             }
            },
            "type": "scatter"
           }
          ],
          "scatter3d": [
           {
            "line": {
             "colorbar": {
              "outlinewidth": 0,
              "ticks": ""
             }
            },
            "marker": {
             "colorbar": {
              "outlinewidth": 0,
              "ticks": ""
             }
            },
            "type": "scatter3d"
           }
          ],
          "scattercarpet": [
           {
            "marker": {
             "colorbar": {
              "outlinewidth": 0,
              "ticks": ""
             }
            },
            "type": "scattercarpet"
           }
          ],
          "scattergeo": [
           {
            "marker": {
             "colorbar": {
              "outlinewidth": 0,
              "ticks": ""
             }
            },
            "type": "scattergeo"
           }
          ],
          "scattergl": [
           {
            "marker": {
             "colorbar": {
              "outlinewidth": 0,
              "ticks": ""
             }
            },
            "type": "scattergl"
           }
          ],
          "scattermapbox": [
           {
            "marker": {
             "colorbar": {
              "outlinewidth": 0,
              "ticks": ""
             }
            },
            "type": "scattermapbox"
           }
          ],
          "scatterpolar": [
           {
            "marker": {
             "colorbar": {
              "outlinewidth": 0,
              "ticks": ""
             }
            },
            "type": "scatterpolar"
           }
          ],
          "scatterpolargl": [
           {
            "marker": {
             "colorbar": {
              "outlinewidth": 0,
              "ticks": ""
             }
            },
            "type": "scatterpolargl"
           }
          ],
          "scatterternary": [
           {
            "marker": {
             "colorbar": {
              "outlinewidth": 0,
              "ticks": ""
             }
            },
            "type": "scatterternary"
           }
          ],
          "surface": [
           {
            "colorbar": {
             "outlinewidth": 0,
             "ticks": ""
            },
            "colorscale": [
             [
              0,
              "#0d0887"
             ],
             [
              0.1111111111111111,
              "#46039f"
             ],
             [
              0.2222222222222222,
              "#7201a8"
             ],
             [
              0.3333333333333333,
              "#9c179e"
             ],
             [
              0.4444444444444444,
              "#bd3786"
             ],
             [
              0.5555555555555556,
              "#d8576b"
             ],
             [
              0.6666666666666666,
              "#ed7953"
             ],
             [
              0.7777777777777778,
              "#fb9f3a"
             ],
             [
              0.8888888888888888,
              "#fdca26"
             ],
             [
              1,
              "#f0f921"
             ]
            ],
            "type": "surface"
           }
          ],
          "table": [
           {
            "cells": {
             "fill": {
              "color": "#EBF0F8"
             },
             "line": {
              "color": "white"
             }
            },
            "header": {
             "fill": {
              "color": "#C8D4E3"
             },
             "line": {
              "color": "white"
             }
            },
            "type": "table"
           }
          ]
         },
         "layout": {
          "annotationdefaults": {
           "arrowcolor": "#2a3f5f",
           "arrowhead": 0,
           "arrowwidth": 1
          },
          "autotypenumbers": "strict",
          "coloraxis": {
           "colorbar": {
            "outlinewidth": 0,
            "ticks": ""
           }
          },
          "colorscale": {
           "diverging": [
            [
             0,
             "#8e0152"
            ],
            [
             0.1,
             "#c51b7d"
            ],
            [
             0.2,
             "#de77ae"
            ],
            [
             0.3,
             "#f1b6da"
            ],
            [
             0.4,
             "#fde0ef"
            ],
            [
             0.5,
             "#f7f7f7"
            ],
            [
             0.6,
             "#e6f5d0"
            ],
            [
             0.7,
             "#b8e186"
            ],
            [
             0.8,
             "#7fbc41"
            ],
            [
             0.9,
             "#4d9221"
            ],
            [
             1,
             "#276419"
            ]
           ],
           "sequential": [
            [
             0,
             "#0d0887"
            ],
            [
             0.1111111111111111,
             "#46039f"
            ],
            [
             0.2222222222222222,
             "#7201a8"
            ],
            [
             0.3333333333333333,
             "#9c179e"
            ],
            [
             0.4444444444444444,
             "#bd3786"
            ],
            [
             0.5555555555555556,
             "#d8576b"
            ],
            [
             0.6666666666666666,
             "#ed7953"
            ],
            [
             0.7777777777777778,
             "#fb9f3a"
            ],
            [
             0.8888888888888888,
             "#fdca26"
            ],
            [
             1,
             "#f0f921"
            ]
           ],
           "sequentialminus": [
            [
             0,
             "#0d0887"
            ],
            [
             0.1111111111111111,
             "#46039f"
            ],
            [
             0.2222222222222222,
             "#7201a8"
            ],
            [
             0.3333333333333333,
             "#9c179e"
            ],
            [
             0.4444444444444444,
             "#bd3786"
            ],
            [
             0.5555555555555556,
             "#d8576b"
            ],
            [
             0.6666666666666666,
             "#ed7953"
            ],
            [
             0.7777777777777778,
             "#fb9f3a"
            ],
            [
             0.8888888888888888,
             "#fdca26"
            ],
            [
             1,
             "#f0f921"
            ]
           ]
          },
          "colorway": [
           "#636efa",
           "#EF553B",
           "#00cc96",
           "#ab63fa",
           "#FFA15A",
           "#19d3f3",
           "#FF6692",
           "#B6E880",
           "#FF97FF",
           "#FECB52"
          ],
          "font": {
           "color": "#2a3f5f"
          },
          "geo": {
           "bgcolor": "white",
           "lakecolor": "white",
           "landcolor": "#E5ECF6",
           "showlakes": true,
           "showland": true,
           "subunitcolor": "white"
          },
          "hoverlabel": {
           "align": "left"
          },
          "hovermode": "closest",
          "mapbox": {
           "style": "light"
          },
          "paper_bgcolor": "white",
          "plot_bgcolor": "#E5ECF6",
          "polar": {
           "angularaxis": {
            "gridcolor": "white",
            "linecolor": "white",
            "ticks": ""
           },
           "bgcolor": "#E5ECF6",
           "radialaxis": {
            "gridcolor": "white",
            "linecolor": "white",
            "ticks": ""
           }
          },
          "scene": {
           "xaxis": {
            "backgroundcolor": "#E5ECF6",
            "gridcolor": "white",
            "gridwidth": 2,
            "linecolor": "white",
            "showbackground": true,
            "ticks": "",
            "zerolinecolor": "white"
           },
           "yaxis": {
            "backgroundcolor": "#E5ECF6",
            "gridcolor": "white",
            "gridwidth": 2,
            "linecolor": "white",
            "showbackground": true,
            "ticks": "",
            "zerolinecolor": "white"
           },
           "zaxis": {
            "backgroundcolor": "#E5ECF6",
            "gridcolor": "white",
            "gridwidth": 2,
            "linecolor": "white",
            "showbackground": true,
            "ticks": "",
            "zerolinecolor": "white"
           }
          },
          "shapedefaults": {
           "line": {
            "color": "#2a3f5f"
           }
          },
          "ternary": {
           "aaxis": {
            "gridcolor": "white",
            "linecolor": "white",
            "ticks": ""
           },
           "baxis": {
            "gridcolor": "white",
            "linecolor": "white",
            "ticks": ""
           },
           "bgcolor": "#E5ECF6",
           "caxis": {
            "gridcolor": "white",
            "linecolor": "white",
            "ticks": ""
           }
          },
          "title": {
           "x": 0.05
          },
          "xaxis": {
           "automargin": true,
           "gridcolor": "white",
           "linecolor": "white",
           "ticks": "",
           "title": {
            "standoff": 15
           },
           "zerolinecolor": "white",
           "zerolinewidth": 2
          },
          "yaxis": {
           "automargin": true,
           "gridcolor": "white",
           "linecolor": "white",
           "ticks": "",
           "title": {
            "standoff": 15
           },
           "zerolinecolor": "white",
           "zerolinewidth": 2
          }
         }
        },
        "title": {
         "text": "Assets"
        },
        "width": 2125,
        "xaxis": {
         "anchor": "y",
         "domain": [
          0,
          1
         ],
         "title": {
          "text": "filing_date"
         }
        },
        "yaxis": {
         "anchor": "x",
         "domain": [
          0,
          1
         ],
         "title": {
          "text": "value_normalized"
         }
        }
       }
      },
      "text/html": [
       "<div>                            <div id=\"704115ba-6e0e-4af4-89fc-55683051704b\" class=\"plotly-graph-div\" style=\"height:500px; width:2125px;\"></div>            <script type=\"text/javascript\">                require([\"plotly\"], function(Plotly) {                    window.PLOTLYENV=window.PLOTLYENV || {};                                    if (document.getElementById(\"704115ba-6e0e-4af4-89fc-55683051704b\")) {                    Plotly.newPlot(                        \"704115ba-6e0e-4af4-89fc-55683051704b\",                        [{\"alignmentgroup\":\"True\",\"hovertemplate\":\"label=Cash and cash equivalents<br>filing_date=%{x}<br>value_normalized=%{y}<extra></extra>\",\"legendgroup\":\"Cash and cash equivalents\",\"marker\":{\"color\":\"#636efa\",\"pattern\":{\"shape\":\"\"}},\"name\":\"Cash and cash equivalents\",\"offsetgroup\":\"Cash and cash equivalents\",\"orientation\":\"v\",\"showlegend\":true,\"textposition\":\"auto\",\"x\":[\"2018-01-25\",\"2018-04-26\",\"2018-07-26\",\"2018-10-25\",\"2019-01-24\",\"2019-04-25\",\"2019-07-25\",\"2019-10-25\",\"2020-01-23\",\"2020-04-23\",\"2020-07-23\",\"2020-10-22\",\"2021-01-21\",\"2021-04-22\",\"2021-07-22\",\"2021-10-21\",\"2022-01-20\",\"2022-04-21\",\"2022-07-02\",\"2022-10-20\",\"2023-01-19\"],\"xaxis\":\"x\",\"y\":[2923.075,2619.384,2712.101,3819.141,3571.539,7066.883,9020.925,6946.196,6781.783,9561.448,14332.966,15687.776,17674.763,21254.859,23959.0,18940.0,14619.0,20606.0,15398.0,13968.0,13803.0],\"yaxis\":\"y\",\"type\":\"bar\"},{\"alignmentgroup\":\"True\",\"hovertemplate\":\"label=Available-for-sale securities, at fair value<br>filing_date=%{x}<br>value_normalized=%{y}<extra></extra>\",\"legendgroup\":\"Available-for-sale securities, at fair value\",\"marker\":{\"color\":\"#EF553B\",\"pattern\":{\"shape\":\"\"}},\"name\":\"Available-for-sale securities, at fair value\",\"offsetgroup\":\"Available-for-sale securities, at fair value\",\"orientation\":\"v\",\"showlegend\":true,\"textposition\":\"auto\",\"x\":[\"2018-01-25\",\"2018-04-26\",\"2018-07-26\",\"2018-10-25\",\"2019-01-24\",\"2019-04-25\",\"2019-07-25\",\"2019-10-25\",\"2020-01-23\",\"2020-04-23\",\"2020-07-23\",\"2020-10-22\",\"2021-01-21\",\"2021-04-22\",\"2021-07-22\",\"2021-10-21\",\"2022-01-20\",\"2022-04-21\",\"2022-07-02\",\"2022-10-20\",\"2023-01-19\"],\"xaxis\":\"x\",\"y\":[11120.664,10080.384,9593.366,9087.609,7790.043,6755.094,7940.322,12866.857,14014.919,12648.064,18451.913,25904.324,30912.438,25986.471,23876.0,22984.0,27221.0,25991.0,26223.0,26711.0,26069.0],\"yaxis\":\"y\",\"type\":\"bar\"},{\"alignmentgroup\":\"True\",\"hovertemplate\":\"label=Held-to-maturity securities, at amortized cost and, net of allowance for credit losses <br>filing_date=%{x}<br>value_normalized=%{y}<extra></extra>\",\"legendgroup\":\"Held-to-maturity securities, at amortized cost and, net of allowance for credit losses \",\"marker\":{\"color\":\"#00cc96\",\"pattern\":{\"shape\":\"\"}},\"name\":\"Held-to-maturity securities, at amortized cost and, net of allowance for credit losses \",\"offsetgroup\":\"Held-to-maturity securities, at amortized cost and, net of allowance for credit losses \",\"orientation\":\"v\",\"showlegend\":true,\"textposition\":\"auto\",\"x\":[\"2018-01-25\",\"2018-04-26\",\"2018-07-26\",\"2018-10-25\",\"2019-01-24\",\"2019-04-25\",\"2019-07-25\",\"2019-10-25\",\"2020-01-23\",\"2020-04-23\",\"2020-07-23\",\"2020-10-22\",\"2021-01-21\",\"2021-04-22\",\"2021-07-22\",\"2021-10-21\",\"2022-01-20\",\"2022-04-21\",\"2022-07-02\",\"2022-10-20\",\"2023-01-19\"],\"xaxis\":\"x\",\"y\":[12663.455,14548.856,15898.263,15899.726,15487.442,15055.255,14868.761,14407.078,13842.946,13574.289,12858.823,12982.223,16592.153,41164.62,59992.0,82365.0,98195.0,98707.0,95814.0,93286.0,91321.0],\"yaxis\":\"y\",\"type\":\"bar\"},{\"alignmentgroup\":\"True\",\"hovertemplate\":\"label=Non-marketable and other equity securities<br>filing_date=%{x}<br>value_normalized=%{y}<extra></extra>\",\"legendgroup\":\"Non-marketable and other equity securities\",\"marker\":{\"color\":\"#ab63fa\",\"pattern\":{\"shape\":\"\"}},\"name\":\"Non-marketable and other equity securities\",\"offsetgroup\":\"Non-marketable and other equity securities\",\"orientation\":\"v\",\"showlegend\":true,\"textposition\":\"auto\",\"x\":[\"2018-01-25\",\"2018-04-26\",\"2018-07-26\",\"2018-10-25\",\"2019-01-24\",\"2019-04-25\",\"2019-07-25\",\"2019-10-25\",\"2020-01-23\",\"2020-04-23\",\"2020-07-23\",\"2020-10-22\",\"2021-01-21\",\"2021-04-22\",\"2021-07-22\",\"2021-10-21\",\"2022-01-20\",\"2022-04-21\",\"2022-07-02\",\"2022-10-20\",\"2023-01-19\"],\"xaxis\":\"x\",\"y\":[651.053,824.936,852.505,896.249,941.104,974.979,1079.749,1150.094,1213.829,1200.595,1270.578,1547.363,1802.235,1857.761,1943.0,2485.0,2543.0,2605.0,2645.0,2595.0,2664.0],\"yaxis\":\"y\",\"type\":\"bar\"},{\"alignmentgroup\":\"True\",\"hovertemplate\":\"label=Investment securities<br>filing_date=%{x}<br>value_normalized=%{y}<extra></extra>\",\"legendgroup\":\"Investment securities\",\"marker\":{\"color\":\"#FFA15A\",\"pattern\":{\"shape\":\"\"}},\"name\":\"Investment securities\",\"offsetgroup\":\"Investment securities\",\"orientation\":\"v\",\"showlegend\":true,\"textposition\":\"auto\",\"x\":[\"2018-01-25\",\"2018-04-26\",\"2018-07-26\",\"2018-10-25\",\"2019-01-24\",\"2019-04-25\",\"2019-07-25\",\"2019-10-25\",\"2020-01-23\",\"2020-04-23\",\"2020-07-23\",\"2020-10-22\",\"2021-01-21\",\"2021-04-22\",\"2021-07-22\",\"2021-10-21\",\"2022-01-20\",\"2022-04-21\",\"2022-07-02\",\"2022-10-20\",\"2023-01-19\"],\"xaxis\":\"x\",\"y\":[24435.172,25454.176,26344.134,25883.584,24218.589,22785.328,23888.832,28424.029,29071.694,27422.948,32581.314,40433.91,49306.826,69008.852,85811.0,107834.0,127959.0,127303.0,124682.0,122592.0,120054.0],\"yaxis\":\"y\",\"type\":\"bar\"},{\"alignmentgroup\":\"True\",\"hovertemplate\":\"label=Loans amortized cost<br>filing_date=%{x}<br>value_normalized=%{y}<extra></extra>\",\"legendgroup\":\"Loans amortized cost\",\"marker\":{\"color\":\"#19d3f3\",\"pattern\":{\"shape\":\"\"}},\"name\":\"Loans amortized cost\",\"offsetgroup\":\"Loans amortized cost\",\"orientation\":\"v\",\"showlegend\":true,\"textposition\":\"auto\",\"x\":[\"2018-01-25\",\"2018-04-26\",\"2018-07-26\",\"2018-10-25\",\"2019-01-24\",\"2019-04-25\",\"2019-07-25\",\"2019-10-25\",\"2020-01-23\",\"2020-04-23\",\"2020-07-23\",\"2020-10-22\",\"2021-01-21\",\"2021-04-22\",\"2021-07-22\",\"2021-10-21\",\"2022-01-20\",\"2022-04-21\",\"2022-07-02\",\"2022-10-20\",\"2023-01-19\"],\"xaxis\":\"x\",\"y\":[23106.316,24587.944,25996.192,27494.915,28338.28,28850.445,29209.573,31063.994,33164.636,35968.085,36727.222,38413.891,45181.488,47675.166,50754.0,61487.0,66276.0,68665.0,70955.0,72129.0,74250.0],\"yaxis\":\"y\",\"type\":\"bar\"},{\"alignmentgroup\":\"True\",\"hovertemplate\":\"label=Allowance for credit losses loans<br>filing_date=%{x}<br>value_normalized=%{y}<extra></extra>\",\"legendgroup\":\"Allowance for credit losses loans\",\"marker\":{\"color\":\"#FF6692\",\"pattern\":{\"shape\":\"\"}},\"name\":\"Allowance for credit losses loans\",\"offsetgroup\":\"Allowance for credit losses loans\",\"orientation\":\"v\",\"showlegend\":true,\"textposition\":\"auto\",\"x\":[\"2018-01-25\",\"2018-04-26\",\"2018-07-26\",\"2018-10-25\",\"2019-01-24\",\"2019-04-25\",\"2019-07-25\",\"2019-10-25\",\"2020-01-23\",\"2020-04-23\",\"2020-07-23\",\"2020-10-22\",\"2021-01-21\",\"2021-04-22\",\"2021-07-22\",\"2021-10-21\",\"2022-01-20\",\"2022-04-21\",\"2022-07-02\",\"2022-10-20\",\"2023-01-19\"],\"xaxis\":\"x\",\"y\":[-255.024,-274.294,-286.709,-285.713,-280.903,-300.151,-301.888,-304.41,-304.924,-548.963,-589.828,-512.958,-447.765,-391.751,-396.0,-398.0,-422.0,-421.0,-545.0,-557.0,-636.0],\"yaxis\":\"y\",\"type\":\"bar\"},{\"alignmentgroup\":\"True\",\"hovertemplate\":\"label=Net loans<br>filing_date=%{x}<br>value_normalized=%{y}<extra></extra>\",\"legendgroup\":\"Net loans\",\"marker\":{\"color\":\"#B6E880\",\"pattern\":{\"shape\":\"\"}},\"name\":\"Net loans\",\"offsetgroup\":\"Net loans\",\"orientation\":\"v\",\"showlegend\":true,\"textposition\":\"auto\",\"x\":[\"2018-01-25\",\"2018-04-26\",\"2018-07-26\",\"2018-10-25\",\"2019-01-24\",\"2019-04-25\",\"2019-07-25\",\"2019-10-25\",\"2020-01-23\",\"2020-04-23\",\"2020-07-23\",\"2020-10-22\",\"2021-01-21\",\"2021-04-22\",\"2021-07-22\",\"2021-10-21\",\"2022-01-20\",\"2022-04-21\",\"2022-07-02\",\"2022-10-20\",\"2023-01-19\"],\"xaxis\":\"x\",\"y\":[22851.292,24313.65,25709.483,27209.202,28057.377,28550.294,28907.685,30759.584,32859.712,35419.122,36137.394,37900.933,44733.723,47283.415,50358.0,61089.0,65854.0,68244.0,70410.0,71572.0,73614.0],\"yaxis\":\"y\",\"type\":\"bar\"},{\"alignmentgroup\":\"True\",\"hovertemplate\":\"label=Goodwill<br>filing_date=%{x}<br>value_normalized=%{y}<extra></extra>\",\"legendgroup\":\"Goodwill\",\"marker\":{\"color\":\"#FF97FF\",\"pattern\":{\"shape\":\"\"}},\"name\":\"Goodwill\",\"offsetgroup\":\"Goodwill\",\"orientation\":\"v\",\"showlegend\":true,\"textposition\":\"auto\",\"x\":[\"2019-04-25\",\"2019-07-25\",\"2019-10-25\",\"2020-01-23\",\"2020-04-23\",\"2020-07-23\",\"2020-10-22\",\"2021-01-21\",\"2021-04-22\",\"2021-07-22\",\"2021-10-21\",\"2022-01-20\",\"2022-04-21\",\"2022-07-02\",\"2022-10-20\",\"2023-01-19\"],\"xaxis\":\"x\",\"y\":[135.19,137.823,137.823,137.823,137.823,137.823,137.823,142.685,142.685,143.0,344.0,375.0,375.0,375.0,375.0,375.0],\"yaxis\":\"y\",\"type\":\"bar\"},{\"alignmentgroup\":\"True\",\"hovertemplate\":\"label=Premises and equipment, net of accumulated depreciation and amortization<br>filing_date=%{x}<br>value_normalized=%{y}<extra></extra>\",\"legendgroup\":\"Premises and equipment, net of accumulated depreciation and amortization\",\"marker\":{\"color\":\"#FECB52\",\"pattern\":{\"shape\":\"\"}},\"name\":\"Premises and equipment, net of accumulated depreciation and amortization\",\"offsetgroup\":\"Premises and equipment, net of accumulated depreciation and amortization\",\"orientation\":\"v\",\"showlegend\":true,\"textposition\":\"auto\",\"x\":[\"2018-01-25\",\"2018-04-26\",\"2018-07-26\",\"2018-10-25\",\"2019-01-24\",\"2019-04-25\",\"2019-07-25\",\"2019-10-25\",\"2020-01-23\",\"2020-04-23\",\"2020-07-23\",\"2020-10-22\",\"2021-01-21\",\"2021-04-22\",\"2021-07-22\",\"2021-10-21\",\"2022-01-20\",\"2022-04-21\",\"2022-07-02\",\"2022-10-20\",\"2023-01-19\"],\"xaxis\":\"x\",\"y\":[128.682,127.054,117.603,121.89,129.213,139.003,141.888,146.713,161.876,154.78,169.313,173.477,175.818,179.674,196.0,247.0,270.0,283.0,294.0,346.0,394.0],\"yaxis\":\"y\",\"type\":\"bar\"},{\"alignmentgroup\":\"True\",\"hovertemplate\":\"label=Other intangible assets, net<br>filing_date=%{x}<br>value_normalized=%{y}<extra></extra>\",\"legendgroup\":\"Other intangible assets, net\",\"marker\":{\"color\":\"#636efa\",\"pattern\":{\"shape\":\"\"}},\"name\":\"Other intangible assets, net\",\"offsetgroup\":\"Other intangible assets, net\",\"orientation\":\"v\",\"showlegend\":true,\"textposition\":\"auto\",\"x\":[\"2019-04-25\",\"2019-07-25\",\"2019-10-25\",\"2020-01-23\",\"2020-04-23\",\"2020-07-23\",\"2020-10-22\",\"2021-01-21\",\"2021-04-22\",\"2021-07-22\",\"2021-10-21\",\"2022-01-20\",\"2022-04-21\",\"2022-07-02\",\"2022-10-20\",\"2023-01-19\"],\"xaxis\":\"x\",\"y\":[58.029,55.158,52.288,49.417,48.072,46.726,45.38,61.435,59.325,57.0,156.0,160.0,154.0,148.0,142.0,136.0],\"yaxis\":\"y\",\"type\":\"bar\"},{\"alignmentgroup\":\"True\",\"hovertemplate\":\"label=Lease right-of-use assets<br>filing_date=%{x}<br>value_normalized=%{y}<extra></extra>\",\"legendgroup\":\"Lease right-of-use assets\",\"marker\":{\"color\":\"#EF553B\",\"pattern\":{\"shape\":\"\"}},\"name\":\"Lease right-of-use assets\",\"offsetgroup\":\"Lease right-of-use assets\",\"orientation\":\"v\",\"showlegend\":true,\"textposition\":\"auto\",\"x\":[\"2019-04-25\",\"2019-07-25\",\"2019-10-25\",\"2020-01-23\",\"2020-04-23\",\"2020-07-23\",\"2020-10-22\",\"2021-01-21\",\"2021-04-22\",\"2021-07-22\",\"2021-10-21\",\"2022-01-20\",\"2022-04-21\",\"2022-07-02\",\"2022-10-20\",\"2023-01-19\"],\"xaxis\":\"x\",\"y\":[164.659,156.347,178.532,197.365,206.392,211.499,220.493,209.932,233.696,225.0,312.0,313.0,302.0,305.0,349.0,335.0],\"yaxis\":\"y\",\"type\":\"bar\"},{\"alignmentgroup\":\"True\",\"hovertemplate\":\"label=Accrued interest receivable and other assets<br>filing_date=%{x}<br>value_normalized=%{y}<extra></extra>\",\"legendgroup\":\"Accrued interest receivable and other assets\",\"marker\":{\"color\":\"#00cc96\",\"pattern\":{\"shape\":\"\"}},\"name\":\"Accrued interest receivable and other assets\",\"offsetgroup\":\"Accrued interest receivable and other assets\",\"orientation\":\"v\",\"showlegend\":true,\"textposition\":\"auto\",\"x\":[\"2018-01-25\",\"2018-04-26\",\"2018-07-26\",\"2018-10-25\",\"2019-01-24\",\"2019-04-25\",\"2019-07-25\",\"2019-10-25\",\"2020-01-23\",\"2020-04-23\",\"2020-07-23\",\"2020-10-22\",\"2021-01-21\",\"2021-04-22\",\"2021-07-22\",\"2021-10-21\",\"2022-01-20\",\"2022-04-21\",\"2022-07-02\",\"2022-10-20\",\"2023-01-19\"],\"xaxis\":\"x\",\"y\":[876.246,986.523,984.424,1105.917,951.261,1260.899,1465.081,1586.068,1745.233,2059.055,2244.972,2316.979,3205.825,4184.114,2650.0,2074.0,1928.0,3088.0,2777.0,3523.0,3082.0],\"yaxis\":\"y\",\"type\":\"bar\"}],                        {\"template\":{\"data\":{\"bar\":[{\"error_x\":{\"color\":\"#2a3f5f\"},\"error_y\":{\"color\":\"#2a3f5f\"},\"marker\":{\"line\":{\"color\":\"#E5ECF6\",\"width\":0.5},\"pattern\":{\"fillmode\":\"overlay\",\"size\":10,\"solidity\":0.2}},\"type\":\"bar\"}],\"barpolar\":[{\"marker\":{\"line\":{\"color\":\"#E5ECF6\",\"width\":0.5},\"pattern\":{\"fillmode\":\"overlay\",\"size\":10,\"solidity\":0.2}},\"type\":\"barpolar\"}],\"carpet\":[{\"aaxis\":{\"endlinecolor\":\"#2a3f5f\",\"gridcolor\":\"white\",\"linecolor\":\"white\",\"minorgridcolor\":\"white\",\"startlinecolor\":\"#2a3f5f\"},\"baxis\":{\"endlinecolor\":\"#2a3f5f\",\"gridcolor\":\"white\",\"linecolor\":\"white\",\"minorgridcolor\":\"white\",\"startlinecolor\":\"#2a3f5f\"},\"type\":\"carpet\"}],\"choropleth\":[{\"colorbar\":{\"outlinewidth\":0,\"ticks\":\"\"},\"type\":\"choropleth\"}],\"contour\":[{\"colorbar\":{\"outlinewidth\":0,\"ticks\":\"\"},\"colorscale\":[[0.0,\"#0d0887\"],[0.1111111111111111,\"#46039f\"],[0.2222222222222222,\"#7201a8\"],[0.3333333333333333,\"#9c179e\"],[0.4444444444444444,\"#bd3786\"],[0.5555555555555556,\"#d8576b\"],[0.6666666666666666,\"#ed7953\"],[0.7777777777777778,\"#fb9f3a\"],[0.8888888888888888,\"#fdca26\"],[1.0,\"#f0f921\"]],\"type\":\"contour\"}],\"contourcarpet\":[{\"colorbar\":{\"outlinewidth\":0,\"ticks\":\"\"},\"type\":\"contourcarpet\"}],\"heatmap\":[{\"colorbar\":{\"outlinewidth\":0,\"ticks\":\"\"},\"colorscale\":[[0.0,\"#0d0887\"],[0.1111111111111111,\"#46039f\"],[0.2222222222222222,\"#7201a8\"],[0.3333333333333333,\"#9c179e\"],[0.4444444444444444,\"#bd3786\"],[0.5555555555555556,\"#d8576b\"],[0.6666666666666666,\"#ed7953\"],[0.7777777777777778,\"#fb9f3a\"],[0.8888888888888888,\"#fdca26\"],[1.0,\"#f0f921\"]],\"type\":\"heatmap\"}],\"heatmapgl\":[{\"colorbar\":{\"outlinewidth\":0,\"ticks\":\"\"},\"colorscale\":[[0.0,\"#0d0887\"],[0.1111111111111111,\"#46039f\"],[0.2222222222222222,\"#7201a8\"],[0.3333333333333333,\"#9c179e\"],[0.4444444444444444,\"#bd3786\"],[0.5555555555555556,\"#d8576b\"],[0.6666666666666666,\"#ed7953\"],[0.7777777777777778,\"#fb9f3a\"],[0.8888888888888888,\"#fdca26\"],[1.0,\"#f0f921\"]],\"type\":\"heatmapgl\"}],\"histogram\":[{\"marker\":{\"pattern\":{\"fillmode\":\"overlay\",\"size\":10,\"solidity\":0.2}},\"type\":\"histogram\"}],\"histogram2d\":[{\"colorbar\":{\"outlinewidth\":0,\"ticks\":\"\"},\"colorscale\":[[0.0,\"#0d0887\"],[0.1111111111111111,\"#46039f\"],[0.2222222222222222,\"#7201a8\"],[0.3333333333333333,\"#9c179e\"],[0.4444444444444444,\"#bd3786\"],[0.5555555555555556,\"#d8576b\"],[0.6666666666666666,\"#ed7953\"],[0.7777777777777778,\"#fb9f3a\"],[0.8888888888888888,\"#fdca26\"],[1.0,\"#f0f921\"]],\"type\":\"histogram2d\"}],\"histogram2dcontour\":[{\"colorbar\":{\"outlinewidth\":0,\"ticks\":\"\"},\"colorscale\":[[0.0,\"#0d0887\"],[0.1111111111111111,\"#46039f\"],[0.2222222222222222,\"#7201a8\"],[0.3333333333333333,\"#9c179e\"],[0.4444444444444444,\"#bd3786\"],[0.5555555555555556,\"#d8576b\"],[0.6666666666666666,\"#ed7953\"],[0.7777777777777778,\"#fb9f3a\"],[0.8888888888888888,\"#fdca26\"],[1.0,\"#f0f921\"]],\"type\":\"histogram2dcontour\"}],\"mesh3d\":[{\"colorbar\":{\"outlinewidth\":0,\"ticks\":\"\"},\"type\":\"mesh3d\"}],\"parcoords\":[{\"line\":{\"colorbar\":{\"outlinewidth\":0,\"ticks\":\"\"}},\"type\":\"parcoords\"}],\"pie\":[{\"automargin\":true,\"type\":\"pie\"}],\"scatter\":[{\"marker\":{\"colorbar\":{\"outlinewidth\":0,\"ticks\":\"\"}},\"type\":\"scatter\"}],\"scatter3d\":[{\"line\":{\"colorbar\":{\"outlinewidth\":0,\"ticks\":\"\"}},\"marker\":{\"colorbar\":{\"outlinewidth\":0,\"ticks\":\"\"}},\"type\":\"scatter3d\"}],\"scattercarpet\":[{\"marker\":{\"colorbar\":{\"outlinewidth\":0,\"ticks\":\"\"}},\"type\":\"scattercarpet\"}],\"scattergeo\":[{\"marker\":{\"colorbar\":{\"outlinewidth\":0,\"ticks\":\"\"}},\"type\":\"scattergeo\"}],\"scattergl\":[{\"marker\":{\"colorbar\":{\"outlinewidth\":0,\"ticks\":\"\"}},\"type\":\"scattergl\"}],\"scattermapbox\":[{\"marker\":{\"colorbar\":{\"outlinewidth\":0,\"ticks\":\"\"}},\"type\":\"scattermapbox\"}],\"scatterpolar\":[{\"marker\":{\"colorbar\":{\"outlinewidth\":0,\"ticks\":\"\"}},\"type\":\"scatterpolar\"}],\"scatterpolargl\":[{\"marker\":{\"colorbar\":{\"outlinewidth\":0,\"ticks\":\"\"}},\"type\":\"scatterpolargl\"}],\"scatterternary\":[{\"marker\":{\"colorbar\":{\"outlinewidth\":0,\"ticks\":\"\"}},\"type\":\"scatterternary\"}],\"surface\":[{\"colorbar\":{\"outlinewidth\":0,\"ticks\":\"\"},\"colorscale\":[[0.0,\"#0d0887\"],[0.1111111111111111,\"#46039f\"],[0.2222222222222222,\"#7201a8\"],[0.3333333333333333,\"#9c179e\"],[0.4444444444444444,\"#bd3786\"],[0.5555555555555556,\"#d8576b\"],[0.6666666666666666,\"#ed7953\"],[0.7777777777777778,\"#fb9f3a\"],[0.8888888888888888,\"#fdca26\"],[1.0,\"#f0f921\"]],\"type\":\"surface\"}],\"table\":[{\"cells\":{\"fill\":{\"color\":\"#EBF0F8\"},\"line\":{\"color\":\"white\"}},\"header\":{\"fill\":{\"color\":\"#C8D4E3\"},\"line\":{\"color\":\"white\"}},\"type\":\"table\"}]},\"layout\":{\"annotationdefaults\":{\"arrowcolor\":\"#2a3f5f\",\"arrowhead\":0,\"arrowwidth\":1},\"autotypenumbers\":\"strict\",\"coloraxis\":{\"colorbar\":{\"outlinewidth\":0,\"ticks\":\"\"}},\"colorscale\":{\"diverging\":[[0,\"#8e0152\"],[0.1,\"#c51b7d\"],[0.2,\"#de77ae\"],[0.3,\"#f1b6da\"],[0.4,\"#fde0ef\"],[0.5,\"#f7f7f7\"],[0.6,\"#e6f5d0\"],[0.7,\"#b8e186\"],[0.8,\"#7fbc41\"],[0.9,\"#4d9221\"],[1,\"#276419\"]],\"sequential\":[[0.0,\"#0d0887\"],[0.1111111111111111,\"#46039f\"],[0.2222222222222222,\"#7201a8\"],[0.3333333333333333,\"#9c179e\"],[0.4444444444444444,\"#bd3786\"],[0.5555555555555556,\"#d8576b\"],[0.6666666666666666,\"#ed7953\"],[0.7777777777777778,\"#fb9f3a\"],[0.8888888888888888,\"#fdca26\"],[1.0,\"#f0f921\"]],\"sequentialminus\":[[0.0,\"#0d0887\"],[0.1111111111111111,\"#46039f\"],[0.2222222222222222,\"#7201a8\"],[0.3333333333333333,\"#9c179e\"],[0.4444444444444444,\"#bd3786\"],[0.5555555555555556,\"#d8576b\"],[0.6666666666666666,\"#ed7953\"],[0.7777777777777778,\"#fb9f3a\"],[0.8888888888888888,\"#fdca26\"],[1.0,\"#f0f921\"]]},\"colorway\":[\"#636efa\",\"#EF553B\",\"#00cc96\",\"#ab63fa\",\"#FFA15A\",\"#19d3f3\",\"#FF6692\",\"#B6E880\",\"#FF97FF\",\"#FECB52\"],\"font\":{\"color\":\"#2a3f5f\"},\"geo\":{\"bgcolor\":\"white\",\"lakecolor\":\"white\",\"landcolor\":\"#E5ECF6\",\"showlakes\":true,\"showland\":true,\"subunitcolor\":\"white\"},\"hoverlabel\":{\"align\":\"left\"},\"hovermode\":\"closest\",\"mapbox\":{\"style\":\"light\"},\"paper_bgcolor\":\"white\",\"plot_bgcolor\":\"#E5ECF6\",\"polar\":{\"angularaxis\":{\"gridcolor\":\"white\",\"linecolor\":\"white\",\"ticks\":\"\"},\"bgcolor\":\"#E5ECF6\",\"radialaxis\":{\"gridcolor\":\"white\",\"linecolor\":\"white\",\"ticks\":\"\"}},\"scene\":{\"xaxis\":{\"backgroundcolor\":\"#E5ECF6\",\"gridcolor\":\"white\",\"gridwidth\":2,\"linecolor\":\"white\",\"showbackground\":true,\"ticks\":\"\",\"zerolinecolor\":\"white\"},\"yaxis\":{\"backgroundcolor\":\"#E5ECF6\",\"gridcolor\":\"white\",\"gridwidth\":2,\"linecolor\":\"white\",\"showbackground\":true,\"ticks\":\"\",\"zerolinecolor\":\"white\"},\"zaxis\":{\"backgroundcolor\":\"#E5ECF6\",\"gridcolor\":\"white\",\"gridwidth\":2,\"linecolor\":\"white\",\"showbackground\":true,\"ticks\":\"\",\"zerolinecolor\":\"white\"}},\"shapedefaults\":{\"line\":{\"color\":\"#2a3f5f\"}},\"ternary\":{\"aaxis\":{\"gridcolor\":\"white\",\"linecolor\":\"white\",\"ticks\":\"\"},\"baxis\":{\"gridcolor\":\"white\",\"linecolor\":\"white\",\"ticks\":\"\"},\"bgcolor\":\"#E5ECF6\",\"caxis\":{\"gridcolor\":\"white\",\"linecolor\":\"white\",\"ticks\":\"\"}},\"title\":{\"x\":0.05},\"xaxis\":{\"automargin\":true,\"gridcolor\":\"white\",\"linecolor\":\"white\",\"ticks\":\"\",\"title\":{\"standoff\":15},\"zerolinecolor\":\"white\",\"zerolinewidth\":2},\"yaxis\":{\"automargin\":true,\"gridcolor\":\"white\",\"linecolor\":\"white\",\"ticks\":\"\",\"title\":{\"standoff\":15},\"zerolinecolor\":\"white\",\"zerolinewidth\":2}}},\"xaxis\":{\"anchor\":\"y\",\"domain\":[0.0,1.0],\"title\":{\"text\":\"filing_date\"}},\"yaxis\":{\"anchor\":\"x\",\"domain\":[0.0,1.0],\"title\":{\"text\":\"value_normalized\"}},\"legend\":{\"title\":{\"text\":\"label\"},\"tracegroupgap\":0},\"title\":{\"text\":\"Assets\"},\"barmode\":\"stack\",\"shapes\":[{\"type\":\"line\",\"x0\":\"2021-07-01\",\"x1\":\"2021-07-01\",\"xref\":\"x\",\"y0\":0,\"y1\":1,\"yref\":\"y domain\"}],\"autosize\":false,\"width\":2125,\"height\":500},                        {\"responsive\": true}                    ).then(function(){\n",
       "                            \n",
       "var gd = document.getElementById('704115ba-6e0e-4af4-89fc-55683051704b');\n",
       "var x = new MutationObserver(function (mutations, observer) {{\n",
       "        var display = window.getComputedStyle(gd).display;\n",
       "        if (!display || display === 'none') {{\n",
       "            console.log([gd, 'removed!']);\n",
       "            Plotly.purge(gd);\n",
       "            observer.disconnect();\n",
       "        }}\n",
       "}});\n",
       "\n",
       "// Listen for the removal of the full notebook cells\n",
       "var notebookContainer = gd.closest('#notebook-container');\n",
       "if (notebookContainer) {{\n",
       "    x.observe(notebookContainer, {childList: true});\n",
       "}}\n",
       "\n",
       "// Listen for the clearing of the current output cell\n",
       "var outputEl = gd.closest('.output');\n",
       "if (outputEl) {{\n",
       "    x.observe(outputEl, {childList: true});\n",
       "}}\n",
       "\n",
       "                        })                };                });            </script>        </div>"
      ]
     },
     "metadata": {},
     "output_type": "display_data"
    }
   ],
   "source": [
    "import plotly.express as px\n",
    " \n",
    "df = df_assets.loc[df_assets['filing_date']>'2018-01-01']\n",
    " \n",
    "fig = px.bar(df, x=\"filing_date\", y=\"value_normalized\", color=\"label\",\n",
    "            hover_data=['value_normalized'], barmode = 'stack',title=\"Assets\")\n",
    "fig.add_vline(x='2021-07-01')\n",
    "fig.update_layout(\n",
    "    autosize=False,\n",
    "    width=2125,\n",
    "    height=500,)\n",
    "\n",
    "df = df_liabilities.loc[df_liabilities['filing_date']>'2018-01-01']\n",
    " \n",
    "l_fig = px.bar(df, x=\"filing_date\", y=\"value_normalized\", color=\"label\",\n",
    "            hover_data=['value_normalized'], barmode = 'stack',title=\"Liabilities\")\n",
    "l_fig.add_vline(x='2021-07-01')\n",
    "l_fig.update_layout(\n",
    "    autosize=False,\n",
    "    width=1850,\n",
    "    height=500,)\n",
    "\n",
    "fig.show()"
   ]
  },
  {
   "cell_type": "code",
   "execution_count": 54,
   "id": "82af5a1c",
   "metadata": {},
   "outputs": [
    {
     "data": {
      "application/vnd.plotly.v1+json": {
       "config": {
        "plotlyServerURL": "https://plot.ly"
       },
       "data": [
        {
         "alignmentgroup": "True",
         "hovertemplate": "label=Non-Interest-bearing demand deposits<br>filing_date=%{x}<br>value_normalized=%{y}<extra></extra>",
         "legendgroup": "Non-Interest-bearing demand deposits",
         "marker": {
          "color": "#636efa",
          "pattern": {
           "shape": ""
          }
         },
         "name": "Non-Interest-bearing demand deposits",
         "offsetgroup": "Non-Interest-bearing demand deposits",
         "orientation": "v",
         "showlegend": true,
         "textposition": "auto",
         "type": "bar",
         "x": [
          "2018-01-25",
          "2018-04-26",
          "2018-07-26",
          "2018-10-25",
          "2019-01-24",
          "2019-04-25",
          "2019-07-25",
          "2019-10-25",
          "2020-01-23",
          "2020-04-23",
          "2020-07-23",
          "2020-10-22",
          "2021-01-21",
          "2021-04-22",
          "2021-07-22",
          "2021-10-21",
          "2022-01-20",
          "2022-04-21",
          "2022-07-02",
          "2022-10-20",
          "2023-01-19"
         ],
         "xaxis": "x",
         "y": [
          -36655.497,
          -37515.355,
          -40593.302,
          -40473.774,
          -39103.422,
          -39278.712,
          -39331.489,
          -40480.61,
          -40841.57,
          -42902.2,
          -49295.722,
          -57508.229,
          -66519.24,
          -84439.997,
          -101259,
          -115388,
          -125851,
          -127997,
          -113969,
          -93988,
          -80753
         ],
         "yaxis": "y"
        },
        {
         "alignmentgroup": "True",
         "hovertemplate": "label=Interest-bearing deposits<br>filing_date=%{x}<br>value_normalized=%{y}<extra></extra>",
         "legendgroup": "Interest-bearing deposits",
         "marker": {
          "color": "#EF553B",
          "pattern": {
           "shape": ""
          }
         },
         "name": "Interest-bearing deposits",
         "offsetgroup": "Interest-bearing deposits",
         "orientation": "v",
         "showlegend": true,
         "textposition": "auto",
         "type": "bar",
         "x": [
          "2018-01-25",
          "2018-04-26",
          "2018-07-26",
          "2018-10-25",
          "2019-01-24",
          "2019-04-25",
          "2019-07-25",
          "2019-10-25",
          "2020-01-23",
          "2020-04-23",
          "2020-07-23",
          "2020-10-22",
          "2021-01-21",
          "2021-04-22",
          "2021-07-22",
          "2021-10-21",
          "2022-01-20",
          "2022-04-21",
          "2022-07-02",
          "2022-10-20",
          "2023-01-19"
         ],
         "xaxis": "x",
         "y": [
          -7598.578,
          -8421.177,
          -8293.993,
          -8122.337,
          -10225.478,
          -13048.485,
          -16279.051,
          -19062.264,
          -20916.237,
          -19009.757,
          -25344.884,
          -27264.791,
          -35462.567,
          -39710.109,
          -44579,
          -55794,
          -63352,
          -70137,
          -73976,
          -82831,
          -92356
         ],
         "yaxis": "y"
        },
        {
         "alignmentgroup": "True",
         "hovertemplate": "label=Short-term borrowings<br>filing_date=%{x}<br>value_normalized=%{y}<extra></extra>",
         "legendgroup": "Short-term borrowings",
         "marker": {
          "color": "#00cc96",
          "pattern": {
           "shape": ""
          }
         },
         "name": "Short-term borrowings",
         "offsetgroup": "Short-term borrowings",
         "orientation": "v",
         "showlegend": true,
         "textposition": "auto",
         "type": "bar",
         "x": [
          "2018-01-25",
          "2018-04-26",
          "2018-07-26",
          "2018-10-25",
          "2019-01-24",
          "2019-04-25",
          "2019-07-25",
          "2019-10-25",
          "2020-01-23",
          "2020-04-23",
          "2020-07-23",
          "2020-10-22",
          "2021-01-21",
          "2021-04-22",
          "2021-07-22",
          "2021-10-21",
          "2022-01-20",
          "2022-04-21",
          "2022-07-02",
          "2022-10-20",
          "2023-01-19"
         ],
         "xaxis": "x",
         "y": [
          -1033.73,
          -1102.14,
          -417.246,
          -2631.252,
          -631.412,
          -14.455,
          -24.252,
          -18.898,
          -17.43,
          -3138.162,
          -50.924,
          -19.068,
          -20.553,
          -38.434,
          -34,
          -97,
          -121,
          -99,
          -3703,
          -13552,
          -13565
         ],
         "yaxis": "y"
        },
        {
         "alignmentgroup": "True",
         "hovertemplate": "label=Lease liabilities<br>filing_date=%{x}<br>value_normalized=%{y}<extra></extra>",
         "legendgroup": "Lease liabilities",
         "marker": {
          "color": "#ab63fa",
          "pattern": {
           "shape": ""
          }
         },
         "name": "Lease liabilities",
         "offsetgroup": "Lease liabilities",
         "orientation": "v",
         "showlegend": true,
         "textposition": "auto",
         "type": "bar",
         "x": [
          "2019-04-25",
          "2019-07-25",
          "2019-10-25",
          "2020-01-23",
          "2020-04-23",
          "2020-07-23",
          "2020-10-22",
          "2021-01-21",
          "2021-04-22",
          "2021-07-22",
          "2021-10-21",
          "2022-01-20",
          "2022-04-21",
          "2022-07-02",
          "2022-10-20",
          "2023-01-19"
         ],
         "xaxis": "x",
         "y": [
          -205.167,
          -195.326,
          -192.543,
          -218.847,
          -227.271,
          -235.537,
          -246.652,
          -259.554,
          -287.413,
          -277,
          -390,
          -388,
          -374,
          -377,
          -429,
          -413
         ],
         "yaxis": "y"
        },
        {
         "alignmentgroup": "True",
         "hovertemplate": "label=Other liabilities<br>filing_date=%{x}<br>value_normalized=%{y}<extra></extra>",
         "legendgroup": "Other liabilities",
         "marker": {
          "color": "#FFA15A",
          "pattern": {
           "shape": ""
          }
         },
         "name": "Other liabilities",
         "offsetgroup": "Other liabilities",
         "orientation": "v",
         "showlegend": true,
         "textposition": "auto",
         "type": "bar",
         "x": [
          "2018-01-25",
          "2018-04-26",
          "2018-07-26",
          "2018-10-25",
          "2019-01-24",
          "2019-04-25",
          "2019-07-25",
          "2019-10-25",
          "2020-01-23",
          "2020-04-23",
          "2020-07-23",
          "2020-10-22",
          "2021-01-21",
          "2021-04-22",
          "2021-07-22",
          "2021-10-21",
          "2022-01-20",
          "2022-04-21",
          "2022-07-02",
          "2022-10-20",
          "2023-01-19"
         ],
         "xaxis": "x",
         "y": [
          -911.755,
          -1206.66,
          -1062.391,
          -1146.109,
          -1006.359,
          -1432.928,
          -1540.476,
          -1731.222,
          -2041.752,
          -2200.953,
          -2623.407,
          -3067.221,
          -3971.974,
          -6411.705,
          -3449,
          -2733,
          -2587,
          -2817,
          -2721,
          -2889,
          -3041
         ],
         "yaxis": "y"
        },
        {
         "alignmentgroup": "True",
         "hovertemplate": "label=Long-term debt<br>filing_date=%{x}<br>value_normalized=%{y}<extra></extra>",
         "legendgroup": "Long-term debt",
         "marker": {
          "color": "#19d3f3",
          "pattern": {
           "shape": ""
          }
         },
         "name": "Long-term debt",
         "offsetgroup": "Long-term debt",
         "orientation": "v",
         "showlegend": true,
         "textposition": "auto",
         "type": "bar",
         "x": [
          "2018-01-25",
          "2018-04-26",
          "2018-07-26",
          "2018-10-25",
          "2019-01-24",
          "2019-04-25",
          "2019-07-25",
          "2019-10-25",
          "2020-01-23",
          "2020-04-23",
          "2020-07-23",
          "2020-10-22",
          "2021-01-21",
          "2021-04-22",
          "2021-07-22",
          "2021-10-21",
          "2022-01-20",
          "2022-04-21",
          "2022-07-02",
          "2022-10-20",
          "2023-01-19"
         ],
         "xaxis": "x",
         "y": [
          -695.492,
          -695.731,
          -695.972,
          -696.217,
          -696.465,
          -696.715,
          -696.97,
          -697.227,
          -347.987,
          -348.076,
          -843.22,
          -843.43,
          -843.628,
          -1338.183,
          -1834,
          -1925,
          -2570,
          -2571,
          -3367,
          -3368,
          -5370
         ],
         "yaxis": "y"
        }
       ],
       "layout": {
        "autosize": false,
        "barmode": "stack",
        "height": 500,
        "legend": {
         "title": {
          "text": "label"
         },
         "tracegroupgap": 0
        },
        "shapes": [
         {
          "type": "line",
          "x0": "2021-07-01",
          "x1": "2021-07-01",
          "xref": "x",
          "y0": 0,
          "y1": 1,
          "yref": "y domain"
         }
        ],
        "template": {
         "data": {
          "bar": [
           {
            "error_x": {
             "color": "#2a3f5f"
            },
            "error_y": {
             "color": "#2a3f5f"
            },
            "marker": {
             "line": {
              "color": "#E5ECF6",
              "width": 0.5
             },
             "pattern": {
              "fillmode": "overlay",
              "size": 10,
              "solidity": 0.2
             }
            },
            "type": "bar"
           }
          ],
          "barpolar": [
           {
            "marker": {
             "line": {
              "color": "#E5ECF6",
              "width": 0.5
             },
             "pattern": {
              "fillmode": "overlay",
              "size": 10,
              "solidity": 0.2
             }
            },
            "type": "barpolar"
           }
          ],
          "carpet": [
           {
            "aaxis": {
             "endlinecolor": "#2a3f5f",
             "gridcolor": "white",
             "linecolor": "white",
             "minorgridcolor": "white",
             "startlinecolor": "#2a3f5f"
            },
            "baxis": {
             "endlinecolor": "#2a3f5f",
             "gridcolor": "white",
             "linecolor": "white",
             "minorgridcolor": "white",
             "startlinecolor": "#2a3f5f"
            },
            "type": "carpet"
           }
          ],
          "choropleth": [
           {
            "colorbar": {
             "outlinewidth": 0,
             "ticks": ""
            },
            "type": "choropleth"
           }
          ],
          "contour": [
           {
            "colorbar": {
             "outlinewidth": 0,
             "ticks": ""
            },
            "colorscale": [
             [
              0,
              "#0d0887"
             ],
             [
              0.1111111111111111,
              "#46039f"
             ],
             [
              0.2222222222222222,
              "#7201a8"
             ],
             [
              0.3333333333333333,
              "#9c179e"
             ],
             [
              0.4444444444444444,
              "#bd3786"
             ],
             [
              0.5555555555555556,
              "#d8576b"
             ],
             [
              0.6666666666666666,
              "#ed7953"
             ],
             [
              0.7777777777777778,
              "#fb9f3a"
             ],
             [
              0.8888888888888888,
              "#fdca26"
             ],
             [
              1,
              "#f0f921"
             ]
            ],
            "type": "contour"
           }
          ],
          "contourcarpet": [
           {
            "colorbar": {
             "outlinewidth": 0,
             "ticks": ""
            },
            "type": "contourcarpet"
           }
          ],
          "heatmap": [
           {
            "colorbar": {
             "outlinewidth": 0,
             "ticks": ""
            },
            "colorscale": [
             [
              0,
              "#0d0887"
             ],
             [
              0.1111111111111111,
              "#46039f"
             ],
             [
              0.2222222222222222,
              "#7201a8"
             ],
             [
              0.3333333333333333,
              "#9c179e"
             ],
             [
              0.4444444444444444,
              "#bd3786"
             ],
             [
              0.5555555555555556,
              "#d8576b"
             ],
             [
              0.6666666666666666,
              "#ed7953"
             ],
             [
              0.7777777777777778,
              "#fb9f3a"
             ],
             [
              0.8888888888888888,
              "#fdca26"
             ],
             [
              1,
              "#f0f921"
             ]
            ],
            "type": "heatmap"
           }
          ],
          "heatmapgl": [
           {
            "colorbar": {
             "outlinewidth": 0,
             "ticks": ""
            },
            "colorscale": [
             [
              0,
              "#0d0887"
             ],
             [
              0.1111111111111111,
              "#46039f"
             ],
             [
              0.2222222222222222,
              "#7201a8"
             ],
             [
              0.3333333333333333,
              "#9c179e"
             ],
             [
              0.4444444444444444,
              "#bd3786"
             ],
             [
              0.5555555555555556,
              "#d8576b"
             ],
             [
              0.6666666666666666,
              "#ed7953"
             ],
             [
              0.7777777777777778,
              "#fb9f3a"
             ],
             [
              0.8888888888888888,
              "#fdca26"
             ],
             [
              1,
              "#f0f921"
             ]
            ],
            "type": "heatmapgl"
           }
          ],
          "histogram": [
           {
            "marker": {
             "pattern": {
              "fillmode": "overlay",
              "size": 10,
              "solidity": 0.2
             }
            },
            "type": "histogram"
           }
          ],
          "histogram2d": [
           {
            "colorbar": {
             "outlinewidth": 0,
             "ticks": ""
            },
            "colorscale": [
             [
              0,
              "#0d0887"
             ],
             [
              0.1111111111111111,
              "#46039f"
             ],
             [
              0.2222222222222222,
              "#7201a8"
             ],
             [
              0.3333333333333333,
              "#9c179e"
             ],
             [
              0.4444444444444444,
              "#bd3786"
             ],
             [
              0.5555555555555556,
              "#d8576b"
             ],
             [
              0.6666666666666666,
              "#ed7953"
             ],
             [
              0.7777777777777778,
              "#fb9f3a"
             ],
             [
              0.8888888888888888,
              "#fdca26"
             ],
             [
              1,
              "#f0f921"
             ]
            ],
            "type": "histogram2d"
           }
          ],
          "histogram2dcontour": [
           {
            "colorbar": {
             "outlinewidth": 0,
             "ticks": ""
            },
            "colorscale": [
             [
              0,
              "#0d0887"
             ],
             [
              0.1111111111111111,
              "#46039f"
             ],
             [
              0.2222222222222222,
              "#7201a8"
             ],
             [
              0.3333333333333333,
              "#9c179e"
             ],
             [
              0.4444444444444444,
              "#bd3786"
             ],
             [
              0.5555555555555556,
              "#d8576b"
             ],
             [
              0.6666666666666666,
              "#ed7953"
             ],
             [
              0.7777777777777778,
              "#fb9f3a"
             ],
             [
              0.8888888888888888,
              "#fdca26"
             ],
             [
              1,
              "#f0f921"
             ]
            ],
            "type": "histogram2dcontour"
           }
          ],
          "mesh3d": [
           {
            "colorbar": {
             "outlinewidth": 0,
             "ticks": ""
            },
            "type": "mesh3d"
           }
          ],
          "parcoords": [
           {
            "line": {
             "colorbar": {
              "outlinewidth": 0,
              "ticks": ""
             }
            },
            "type": "parcoords"
           }
          ],
          "pie": [
           {
            "automargin": true,
            "type": "pie"
           }
          ],
          "scatter": [
           {
            "marker": {
             "colorbar": {
              "outlinewidth": 0,
              "ticks": ""
             }
            },
            "type": "scatter"
           }
          ],
          "scatter3d": [
           {
            "line": {
             "colorbar": {
              "outlinewidth": 0,
              "ticks": ""
             }
            },
            "marker": {
             "colorbar": {
              "outlinewidth": 0,
              "ticks": ""
             }
            },
            "type": "scatter3d"
           }
          ],
          "scattercarpet": [
           {
            "marker": {
             "colorbar": {
              "outlinewidth": 0,
              "ticks": ""
             }
            },
            "type": "scattercarpet"
           }
          ],
          "scattergeo": [
           {
            "marker": {
             "colorbar": {
              "outlinewidth": 0,
              "ticks": ""
             }
            },
            "type": "scattergeo"
           }
          ],
          "scattergl": [
           {
            "marker": {
             "colorbar": {
              "outlinewidth": 0,
              "ticks": ""
             }
            },
            "type": "scattergl"
           }
          ],
          "scattermapbox": [
           {
            "marker": {
             "colorbar": {
              "outlinewidth": 0,
              "ticks": ""
             }
            },
            "type": "scattermapbox"
           }
          ],
          "scatterpolar": [
           {
            "marker": {
             "colorbar": {
              "outlinewidth": 0,
              "ticks": ""
             }
            },
            "type": "scatterpolar"
           }
          ],
          "scatterpolargl": [
           {
            "marker": {
             "colorbar": {
              "outlinewidth": 0,
              "ticks": ""
             }
            },
            "type": "scatterpolargl"
           }
          ],
          "scatterternary": [
           {
            "marker": {
             "colorbar": {
              "outlinewidth": 0,
              "ticks": ""
             }
            },
            "type": "scatterternary"
           }
          ],
          "surface": [
           {
            "colorbar": {
             "outlinewidth": 0,
             "ticks": ""
            },
            "colorscale": [
             [
              0,
              "#0d0887"
             ],
             [
              0.1111111111111111,
              "#46039f"
             ],
             [
              0.2222222222222222,
              "#7201a8"
             ],
             [
              0.3333333333333333,
              "#9c179e"
             ],
             [
              0.4444444444444444,
              "#bd3786"
             ],
             [
              0.5555555555555556,
              "#d8576b"
             ],
             [
              0.6666666666666666,
              "#ed7953"
             ],
             [
              0.7777777777777778,
              "#fb9f3a"
             ],
             [
              0.8888888888888888,
              "#fdca26"
             ],
             [
              1,
              "#f0f921"
             ]
            ],
            "type": "surface"
           }
          ],
          "table": [
           {
            "cells": {
             "fill": {
              "color": "#EBF0F8"
             },
             "line": {
              "color": "white"
             }
            },
            "header": {
             "fill": {
              "color": "#C8D4E3"
             },
             "line": {
              "color": "white"
             }
            },
            "type": "table"
           }
          ]
         },
         "layout": {
          "annotationdefaults": {
           "arrowcolor": "#2a3f5f",
           "arrowhead": 0,
           "arrowwidth": 1
          },
          "autotypenumbers": "strict",
          "coloraxis": {
           "colorbar": {
            "outlinewidth": 0,
            "ticks": ""
           }
          },
          "colorscale": {
           "diverging": [
            [
             0,
             "#8e0152"
            ],
            [
             0.1,
             "#c51b7d"
            ],
            [
             0.2,
             "#de77ae"
            ],
            [
             0.3,
             "#f1b6da"
            ],
            [
             0.4,
             "#fde0ef"
            ],
            [
             0.5,
             "#f7f7f7"
            ],
            [
             0.6,
             "#e6f5d0"
            ],
            [
             0.7,
             "#b8e186"
            ],
            [
             0.8,
             "#7fbc41"
            ],
            [
             0.9,
             "#4d9221"
            ],
            [
             1,
             "#276419"
            ]
           ],
           "sequential": [
            [
             0,
             "#0d0887"
            ],
            [
             0.1111111111111111,
             "#46039f"
            ],
            [
             0.2222222222222222,
             "#7201a8"
            ],
            [
             0.3333333333333333,
             "#9c179e"
            ],
            [
             0.4444444444444444,
             "#bd3786"
            ],
            [
             0.5555555555555556,
             "#d8576b"
            ],
            [
             0.6666666666666666,
             "#ed7953"
            ],
            [
             0.7777777777777778,
             "#fb9f3a"
            ],
            [
             0.8888888888888888,
             "#fdca26"
            ],
            [
             1,
             "#f0f921"
            ]
           ],
           "sequentialminus": [
            [
             0,
             "#0d0887"
            ],
            [
             0.1111111111111111,
             "#46039f"
            ],
            [
             0.2222222222222222,
             "#7201a8"
            ],
            [
             0.3333333333333333,
             "#9c179e"
            ],
            [
             0.4444444444444444,
             "#bd3786"
            ],
            [
             0.5555555555555556,
             "#d8576b"
            ],
            [
             0.6666666666666666,
             "#ed7953"
            ],
            [
             0.7777777777777778,
             "#fb9f3a"
            ],
            [
             0.8888888888888888,
             "#fdca26"
            ],
            [
             1,
             "#f0f921"
            ]
           ]
          },
          "colorway": [
           "#636efa",
           "#EF553B",
           "#00cc96",
           "#ab63fa",
           "#FFA15A",
           "#19d3f3",
           "#FF6692",
           "#B6E880",
           "#FF97FF",
           "#FECB52"
          ],
          "font": {
           "color": "#2a3f5f"
          },
          "geo": {
           "bgcolor": "white",
           "lakecolor": "white",
           "landcolor": "#E5ECF6",
           "showlakes": true,
           "showland": true,
           "subunitcolor": "white"
          },
          "hoverlabel": {
           "align": "left"
          },
          "hovermode": "closest",
          "mapbox": {
           "style": "light"
          },
          "paper_bgcolor": "white",
          "plot_bgcolor": "#E5ECF6",
          "polar": {
           "angularaxis": {
            "gridcolor": "white",
            "linecolor": "white",
            "ticks": ""
           },
           "bgcolor": "#E5ECF6",
           "radialaxis": {
            "gridcolor": "white",
            "linecolor": "white",
            "ticks": ""
           }
          },
          "scene": {
           "xaxis": {
            "backgroundcolor": "#E5ECF6",
            "gridcolor": "white",
            "gridwidth": 2,
            "linecolor": "white",
            "showbackground": true,
            "ticks": "",
            "zerolinecolor": "white"
           },
           "yaxis": {
            "backgroundcolor": "#E5ECF6",
            "gridcolor": "white",
            "gridwidth": 2,
            "linecolor": "white",
            "showbackground": true,
            "ticks": "",
            "zerolinecolor": "white"
           },
           "zaxis": {
            "backgroundcolor": "#E5ECF6",
            "gridcolor": "white",
            "gridwidth": 2,
            "linecolor": "white",
            "showbackground": true,
            "ticks": "",
            "zerolinecolor": "white"
           }
          },
          "shapedefaults": {
           "line": {
            "color": "#2a3f5f"
           }
          },
          "ternary": {
           "aaxis": {
            "gridcolor": "white",
            "linecolor": "white",
            "ticks": ""
           },
           "baxis": {
            "gridcolor": "white",
            "linecolor": "white",
            "ticks": ""
           },
           "bgcolor": "#E5ECF6",
           "caxis": {
            "gridcolor": "white",
            "linecolor": "white",
            "ticks": ""
           }
          },
          "title": {
           "x": 0.05
          },
          "xaxis": {
           "automargin": true,
           "gridcolor": "white",
           "linecolor": "white",
           "ticks": "",
           "title": {
            "standoff": 15
           },
           "zerolinecolor": "white",
           "zerolinewidth": 2
          },
          "yaxis": {
           "automargin": true,
           "gridcolor": "white",
           "linecolor": "white",
           "ticks": "",
           "title": {
            "standoff": 15
           },
           "zerolinecolor": "white",
           "zerolinewidth": 2
          }
         }
        },
        "title": {
         "text": "Liabilities"
        },
        "width": 1850,
        "xaxis": {
         "anchor": "y",
         "domain": [
          0,
          1
         ],
         "title": {
          "text": "filing_date"
         }
        },
        "yaxis": {
         "anchor": "x",
         "domain": [
          0,
          1
         ],
         "title": {
          "text": "value_normalized"
         }
        }
       }
      },
      "text/html": [
       "<div>                            <div id=\"c9f4ea20-ca4a-4441-91f0-6b7ae0eb38a1\" class=\"plotly-graph-div\" style=\"height:500px; width:1850px;\"></div>            <script type=\"text/javascript\">                require([\"plotly\"], function(Plotly) {                    window.PLOTLYENV=window.PLOTLYENV || {};                                    if (document.getElementById(\"c9f4ea20-ca4a-4441-91f0-6b7ae0eb38a1\")) {                    Plotly.newPlot(                        \"c9f4ea20-ca4a-4441-91f0-6b7ae0eb38a1\",                        [{\"alignmentgroup\":\"True\",\"hovertemplate\":\"label=Non-Interest-bearing demand deposits<br>filing_date=%{x}<br>value_normalized=%{y}<extra></extra>\",\"legendgroup\":\"Non-Interest-bearing demand deposits\",\"marker\":{\"color\":\"#636efa\",\"pattern\":{\"shape\":\"\"}},\"name\":\"Non-Interest-bearing demand deposits\",\"offsetgroup\":\"Non-Interest-bearing demand deposits\",\"orientation\":\"v\",\"showlegend\":true,\"textposition\":\"auto\",\"x\":[\"2018-01-25\",\"2018-04-26\",\"2018-07-26\",\"2018-10-25\",\"2019-01-24\",\"2019-04-25\",\"2019-07-25\",\"2019-10-25\",\"2020-01-23\",\"2020-04-23\",\"2020-07-23\",\"2020-10-22\",\"2021-01-21\",\"2021-04-22\",\"2021-07-22\",\"2021-10-21\",\"2022-01-20\",\"2022-04-21\",\"2022-07-02\",\"2022-10-20\",\"2023-01-19\"],\"xaxis\":\"x\",\"y\":[-36655.497,-37515.355,-40593.302,-40473.774,-39103.422,-39278.712,-39331.489,-40480.61,-40841.57,-42902.2,-49295.722,-57508.229,-66519.24,-84439.997,-101259.0,-115388.0,-125851.0,-127997.0,-113969.0,-93988.0,-80753.0],\"yaxis\":\"y\",\"type\":\"bar\"},{\"alignmentgroup\":\"True\",\"hovertemplate\":\"label=Interest-bearing deposits<br>filing_date=%{x}<br>value_normalized=%{y}<extra></extra>\",\"legendgroup\":\"Interest-bearing deposits\",\"marker\":{\"color\":\"#EF553B\",\"pattern\":{\"shape\":\"\"}},\"name\":\"Interest-bearing deposits\",\"offsetgroup\":\"Interest-bearing deposits\",\"orientation\":\"v\",\"showlegend\":true,\"textposition\":\"auto\",\"x\":[\"2018-01-25\",\"2018-04-26\",\"2018-07-26\",\"2018-10-25\",\"2019-01-24\",\"2019-04-25\",\"2019-07-25\",\"2019-10-25\",\"2020-01-23\",\"2020-04-23\",\"2020-07-23\",\"2020-10-22\",\"2021-01-21\",\"2021-04-22\",\"2021-07-22\",\"2021-10-21\",\"2022-01-20\",\"2022-04-21\",\"2022-07-02\",\"2022-10-20\",\"2023-01-19\"],\"xaxis\":\"x\",\"y\":[-7598.578,-8421.177,-8293.993,-8122.337,-10225.478,-13048.485,-16279.051,-19062.264,-20916.237,-19009.757,-25344.884,-27264.791,-35462.567,-39710.109,-44579.0,-55794.0,-63352.0,-70137.0,-73976.0,-82831.0,-92356.0],\"yaxis\":\"y\",\"type\":\"bar\"},{\"alignmentgroup\":\"True\",\"hovertemplate\":\"label=Short-term borrowings<br>filing_date=%{x}<br>value_normalized=%{y}<extra></extra>\",\"legendgroup\":\"Short-term borrowings\",\"marker\":{\"color\":\"#00cc96\",\"pattern\":{\"shape\":\"\"}},\"name\":\"Short-term borrowings\",\"offsetgroup\":\"Short-term borrowings\",\"orientation\":\"v\",\"showlegend\":true,\"textposition\":\"auto\",\"x\":[\"2018-01-25\",\"2018-04-26\",\"2018-07-26\",\"2018-10-25\",\"2019-01-24\",\"2019-04-25\",\"2019-07-25\",\"2019-10-25\",\"2020-01-23\",\"2020-04-23\",\"2020-07-23\",\"2020-10-22\",\"2021-01-21\",\"2021-04-22\",\"2021-07-22\",\"2021-10-21\",\"2022-01-20\",\"2022-04-21\",\"2022-07-02\",\"2022-10-20\",\"2023-01-19\"],\"xaxis\":\"x\",\"y\":[-1033.73,-1102.14,-417.246,-2631.252,-631.412,-14.455,-24.252,-18.898,-17.43,-3138.162,-50.924,-19.068,-20.553,-38.434,-34.0,-97.0,-121.0,-99.0,-3703.0,-13552.0,-13565.0],\"yaxis\":\"y\",\"type\":\"bar\"},{\"alignmentgroup\":\"True\",\"hovertemplate\":\"label=Lease liabilities<br>filing_date=%{x}<br>value_normalized=%{y}<extra></extra>\",\"legendgroup\":\"Lease liabilities\",\"marker\":{\"color\":\"#ab63fa\",\"pattern\":{\"shape\":\"\"}},\"name\":\"Lease liabilities\",\"offsetgroup\":\"Lease liabilities\",\"orientation\":\"v\",\"showlegend\":true,\"textposition\":\"auto\",\"x\":[\"2019-04-25\",\"2019-07-25\",\"2019-10-25\",\"2020-01-23\",\"2020-04-23\",\"2020-07-23\",\"2020-10-22\",\"2021-01-21\",\"2021-04-22\",\"2021-07-22\",\"2021-10-21\",\"2022-01-20\",\"2022-04-21\",\"2022-07-02\",\"2022-10-20\",\"2023-01-19\"],\"xaxis\":\"x\",\"y\":[-205.167,-195.326,-192.543,-218.847,-227.271,-235.537,-246.652,-259.554,-287.413,-277.0,-390.0,-388.0,-374.0,-377.0,-429.0,-413.0],\"yaxis\":\"y\",\"type\":\"bar\"},{\"alignmentgroup\":\"True\",\"hovertemplate\":\"label=Other liabilities<br>filing_date=%{x}<br>value_normalized=%{y}<extra></extra>\",\"legendgroup\":\"Other liabilities\",\"marker\":{\"color\":\"#FFA15A\",\"pattern\":{\"shape\":\"\"}},\"name\":\"Other liabilities\",\"offsetgroup\":\"Other liabilities\",\"orientation\":\"v\",\"showlegend\":true,\"textposition\":\"auto\",\"x\":[\"2018-01-25\",\"2018-04-26\",\"2018-07-26\",\"2018-10-25\",\"2019-01-24\",\"2019-04-25\",\"2019-07-25\",\"2019-10-25\",\"2020-01-23\",\"2020-04-23\",\"2020-07-23\",\"2020-10-22\",\"2021-01-21\",\"2021-04-22\",\"2021-07-22\",\"2021-10-21\",\"2022-01-20\",\"2022-04-21\",\"2022-07-02\",\"2022-10-20\",\"2023-01-19\"],\"xaxis\":\"x\",\"y\":[-911.755,-1206.66,-1062.391,-1146.109,-1006.359,-1432.928,-1540.476,-1731.222,-2041.752,-2200.953,-2623.407,-3067.221,-3971.974,-6411.705,-3449.0,-2733.0,-2587.0,-2817.0,-2721.0,-2889.0,-3041.0],\"yaxis\":\"y\",\"type\":\"bar\"},{\"alignmentgroup\":\"True\",\"hovertemplate\":\"label=Long-term debt<br>filing_date=%{x}<br>value_normalized=%{y}<extra></extra>\",\"legendgroup\":\"Long-term debt\",\"marker\":{\"color\":\"#19d3f3\",\"pattern\":{\"shape\":\"\"}},\"name\":\"Long-term debt\",\"offsetgroup\":\"Long-term debt\",\"orientation\":\"v\",\"showlegend\":true,\"textposition\":\"auto\",\"x\":[\"2018-01-25\",\"2018-04-26\",\"2018-07-26\",\"2018-10-25\",\"2019-01-24\",\"2019-04-25\",\"2019-07-25\",\"2019-10-25\",\"2020-01-23\",\"2020-04-23\",\"2020-07-23\",\"2020-10-22\",\"2021-01-21\",\"2021-04-22\",\"2021-07-22\",\"2021-10-21\",\"2022-01-20\",\"2022-04-21\",\"2022-07-02\",\"2022-10-20\",\"2023-01-19\"],\"xaxis\":\"x\",\"y\":[-695.492,-695.731,-695.972,-696.217,-696.465,-696.715,-696.97,-697.227,-347.987,-348.076,-843.22,-843.43,-843.628,-1338.183,-1834.0,-1925.0,-2570.0,-2571.0,-3367.0,-3368.0,-5370.0],\"yaxis\":\"y\",\"type\":\"bar\"}],                        {\"template\":{\"data\":{\"bar\":[{\"error_x\":{\"color\":\"#2a3f5f\"},\"error_y\":{\"color\":\"#2a3f5f\"},\"marker\":{\"line\":{\"color\":\"#E5ECF6\",\"width\":0.5},\"pattern\":{\"fillmode\":\"overlay\",\"size\":10,\"solidity\":0.2}},\"type\":\"bar\"}],\"barpolar\":[{\"marker\":{\"line\":{\"color\":\"#E5ECF6\",\"width\":0.5},\"pattern\":{\"fillmode\":\"overlay\",\"size\":10,\"solidity\":0.2}},\"type\":\"barpolar\"}],\"carpet\":[{\"aaxis\":{\"endlinecolor\":\"#2a3f5f\",\"gridcolor\":\"white\",\"linecolor\":\"white\",\"minorgridcolor\":\"white\",\"startlinecolor\":\"#2a3f5f\"},\"baxis\":{\"endlinecolor\":\"#2a3f5f\",\"gridcolor\":\"white\",\"linecolor\":\"white\",\"minorgridcolor\":\"white\",\"startlinecolor\":\"#2a3f5f\"},\"type\":\"carpet\"}],\"choropleth\":[{\"colorbar\":{\"outlinewidth\":0,\"ticks\":\"\"},\"type\":\"choropleth\"}],\"contour\":[{\"colorbar\":{\"outlinewidth\":0,\"ticks\":\"\"},\"colorscale\":[[0.0,\"#0d0887\"],[0.1111111111111111,\"#46039f\"],[0.2222222222222222,\"#7201a8\"],[0.3333333333333333,\"#9c179e\"],[0.4444444444444444,\"#bd3786\"],[0.5555555555555556,\"#d8576b\"],[0.6666666666666666,\"#ed7953\"],[0.7777777777777778,\"#fb9f3a\"],[0.8888888888888888,\"#fdca26\"],[1.0,\"#f0f921\"]],\"type\":\"contour\"}],\"contourcarpet\":[{\"colorbar\":{\"outlinewidth\":0,\"ticks\":\"\"},\"type\":\"contourcarpet\"}],\"heatmap\":[{\"colorbar\":{\"outlinewidth\":0,\"ticks\":\"\"},\"colorscale\":[[0.0,\"#0d0887\"],[0.1111111111111111,\"#46039f\"],[0.2222222222222222,\"#7201a8\"],[0.3333333333333333,\"#9c179e\"],[0.4444444444444444,\"#bd3786\"],[0.5555555555555556,\"#d8576b\"],[0.6666666666666666,\"#ed7953\"],[0.7777777777777778,\"#fb9f3a\"],[0.8888888888888888,\"#fdca26\"],[1.0,\"#f0f921\"]],\"type\":\"heatmap\"}],\"heatmapgl\":[{\"colorbar\":{\"outlinewidth\":0,\"ticks\":\"\"},\"colorscale\":[[0.0,\"#0d0887\"],[0.1111111111111111,\"#46039f\"],[0.2222222222222222,\"#7201a8\"],[0.3333333333333333,\"#9c179e\"],[0.4444444444444444,\"#bd3786\"],[0.5555555555555556,\"#d8576b\"],[0.6666666666666666,\"#ed7953\"],[0.7777777777777778,\"#fb9f3a\"],[0.8888888888888888,\"#fdca26\"],[1.0,\"#f0f921\"]],\"type\":\"heatmapgl\"}],\"histogram\":[{\"marker\":{\"pattern\":{\"fillmode\":\"overlay\",\"size\":10,\"solidity\":0.2}},\"type\":\"histogram\"}],\"histogram2d\":[{\"colorbar\":{\"outlinewidth\":0,\"ticks\":\"\"},\"colorscale\":[[0.0,\"#0d0887\"],[0.1111111111111111,\"#46039f\"],[0.2222222222222222,\"#7201a8\"],[0.3333333333333333,\"#9c179e\"],[0.4444444444444444,\"#bd3786\"],[0.5555555555555556,\"#d8576b\"],[0.6666666666666666,\"#ed7953\"],[0.7777777777777778,\"#fb9f3a\"],[0.8888888888888888,\"#fdca26\"],[1.0,\"#f0f921\"]],\"type\":\"histogram2d\"}],\"histogram2dcontour\":[{\"colorbar\":{\"outlinewidth\":0,\"ticks\":\"\"},\"colorscale\":[[0.0,\"#0d0887\"],[0.1111111111111111,\"#46039f\"],[0.2222222222222222,\"#7201a8\"],[0.3333333333333333,\"#9c179e\"],[0.4444444444444444,\"#bd3786\"],[0.5555555555555556,\"#d8576b\"],[0.6666666666666666,\"#ed7953\"],[0.7777777777777778,\"#fb9f3a\"],[0.8888888888888888,\"#fdca26\"],[1.0,\"#f0f921\"]],\"type\":\"histogram2dcontour\"}],\"mesh3d\":[{\"colorbar\":{\"outlinewidth\":0,\"ticks\":\"\"},\"type\":\"mesh3d\"}],\"parcoords\":[{\"line\":{\"colorbar\":{\"outlinewidth\":0,\"ticks\":\"\"}},\"type\":\"parcoords\"}],\"pie\":[{\"automargin\":true,\"type\":\"pie\"}],\"scatter\":[{\"marker\":{\"colorbar\":{\"outlinewidth\":0,\"ticks\":\"\"}},\"type\":\"scatter\"}],\"scatter3d\":[{\"line\":{\"colorbar\":{\"outlinewidth\":0,\"ticks\":\"\"}},\"marker\":{\"colorbar\":{\"outlinewidth\":0,\"ticks\":\"\"}},\"type\":\"scatter3d\"}],\"scattercarpet\":[{\"marker\":{\"colorbar\":{\"outlinewidth\":0,\"ticks\":\"\"}},\"type\":\"scattercarpet\"}],\"scattergeo\":[{\"marker\":{\"colorbar\":{\"outlinewidth\":0,\"ticks\":\"\"}},\"type\":\"scattergeo\"}],\"scattergl\":[{\"marker\":{\"colorbar\":{\"outlinewidth\":0,\"ticks\":\"\"}},\"type\":\"scattergl\"}],\"scattermapbox\":[{\"marker\":{\"colorbar\":{\"outlinewidth\":0,\"ticks\":\"\"}},\"type\":\"scattermapbox\"}],\"scatterpolar\":[{\"marker\":{\"colorbar\":{\"outlinewidth\":0,\"ticks\":\"\"}},\"type\":\"scatterpolar\"}],\"scatterpolargl\":[{\"marker\":{\"colorbar\":{\"outlinewidth\":0,\"ticks\":\"\"}},\"type\":\"scatterpolargl\"}],\"scatterternary\":[{\"marker\":{\"colorbar\":{\"outlinewidth\":0,\"ticks\":\"\"}},\"type\":\"scatterternary\"}],\"surface\":[{\"colorbar\":{\"outlinewidth\":0,\"ticks\":\"\"},\"colorscale\":[[0.0,\"#0d0887\"],[0.1111111111111111,\"#46039f\"],[0.2222222222222222,\"#7201a8\"],[0.3333333333333333,\"#9c179e\"],[0.4444444444444444,\"#bd3786\"],[0.5555555555555556,\"#d8576b\"],[0.6666666666666666,\"#ed7953\"],[0.7777777777777778,\"#fb9f3a\"],[0.8888888888888888,\"#fdca26\"],[1.0,\"#f0f921\"]],\"type\":\"surface\"}],\"table\":[{\"cells\":{\"fill\":{\"color\":\"#EBF0F8\"},\"line\":{\"color\":\"white\"}},\"header\":{\"fill\":{\"color\":\"#C8D4E3\"},\"line\":{\"color\":\"white\"}},\"type\":\"table\"}]},\"layout\":{\"annotationdefaults\":{\"arrowcolor\":\"#2a3f5f\",\"arrowhead\":0,\"arrowwidth\":1},\"autotypenumbers\":\"strict\",\"coloraxis\":{\"colorbar\":{\"outlinewidth\":0,\"ticks\":\"\"}},\"colorscale\":{\"diverging\":[[0,\"#8e0152\"],[0.1,\"#c51b7d\"],[0.2,\"#de77ae\"],[0.3,\"#f1b6da\"],[0.4,\"#fde0ef\"],[0.5,\"#f7f7f7\"],[0.6,\"#e6f5d0\"],[0.7,\"#b8e186\"],[0.8,\"#7fbc41\"],[0.9,\"#4d9221\"],[1,\"#276419\"]],\"sequential\":[[0.0,\"#0d0887\"],[0.1111111111111111,\"#46039f\"],[0.2222222222222222,\"#7201a8\"],[0.3333333333333333,\"#9c179e\"],[0.4444444444444444,\"#bd3786\"],[0.5555555555555556,\"#d8576b\"],[0.6666666666666666,\"#ed7953\"],[0.7777777777777778,\"#fb9f3a\"],[0.8888888888888888,\"#fdca26\"],[1.0,\"#f0f921\"]],\"sequentialminus\":[[0.0,\"#0d0887\"],[0.1111111111111111,\"#46039f\"],[0.2222222222222222,\"#7201a8\"],[0.3333333333333333,\"#9c179e\"],[0.4444444444444444,\"#bd3786\"],[0.5555555555555556,\"#d8576b\"],[0.6666666666666666,\"#ed7953\"],[0.7777777777777778,\"#fb9f3a\"],[0.8888888888888888,\"#fdca26\"],[1.0,\"#f0f921\"]]},\"colorway\":[\"#636efa\",\"#EF553B\",\"#00cc96\",\"#ab63fa\",\"#FFA15A\",\"#19d3f3\",\"#FF6692\",\"#B6E880\",\"#FF97FF\",\"#FECB52\"],\"font\":{\"color\":\"#2a3f5f\"},\"geo\":{\"bgcolor\":\"white\",\"lakecolor\":\"white\",\"landcolor\":\"#E5ECF6\",\"showlakes\":true,\"showland\":true,\"subunitcolor\":\"white\"},\"hoverlabel\":{\"align\":\"left\"},\"hovermode\":\"closest\",\"mapbox\":{\"style\":\"light\"},\"paper_bgcolor\":\"white\",\"plot_bgcolor\":\"#E5ECF6\",\"polar\":{\"angularaxis\":{\"gridcolor\":\"white\",\"linecolor\":\"white\",\"ticks\":\"\"},\"bgcolor\":\"#E5ECF6\",\"radialaxis\":{\"gridcolor\":\"white\",\"linecolor\":\"white\",\"ticks\":\"\"}},\"scene\":{\"xaxis\":{\"backgroundcolor\":\"#E5ECF6\",\"gridcolor\":\"white\",\"gridwidth\":2,\"linecolor\":\"white\",\"showbackground\":true,\"ticks\":\"\",\"zerolinecolor\":\"white\"},\"yaxis\":{\"backgroundcolor\":\"#E5ECF6\",\"gridcolor\":\"white\",\"gridwidth\":2,\"linecolor\":\"white\",\"showbackground\":true,\"ticks\":\"\",\"zerolinecolor\":\"white\"},\"zaxis\":{\"backgroundcolor\":\"#E5ECF6\",\"gridcolor\":\"white\",\"gridwidth\":2,\"linecolor\":\"white\",\"showbackground\":true,\"ticks\":\"\",\"zerolinecolor\":\"white\"}},\"shapedefaults\":{\"line\":{\"color\":\"#2a3f5f\"}},\"ternary\":{\"aaxis\":{\"gridcolor\":\"white\",\"linecolor\":\"white\",\"ticks\":\"\"},\"baxis\":{\"gridcolor\":\"white\",\"linecolor\":\"white\",\"ticks\":\"\"},\"bgcolor\":\"#E5ECF6\",\"caxis\":{\"gridcolor\":\"white\",\"linecolor\":\"white\",\"ticks\":\"\"}},\"title\":{\"x\":0.05},\"xaxis\":{\"automargin\":true,\"gridcolor\":\"white\",\"linecolor\":\"white\",\"ticks\":\"\",\"title\":{\"standoff\":15},\"zerolinecolor\":\"white\",\"zerolinewidth\":2},\"yaxis\":{\"automargin\":true,\"gridcolor\":\"white\",\"linecolor\":\"white\",\"ticks\":\"\",\"title\":{\"standoff\":15},\"zerolinecolor\":\"white\",\"zerolinewidth\":2}}},\"xaxis\":{\"anchor\":\"y\",\"domain\":[0.0,1.0],\"title\":{\"text\":\"filing_date\"}},\"yaxis\":{\"anchor\":\"x\",\"domain\":[0.0,1.0],\"title\":{\"text\":\"value_normalized\"}},\"legend\":{\"title\":{\"text\":\"label\"},\"tracegroupgap\":0},\"title\":{\"text\":\"Liabilities\"},\"barmode\":\"stack\",\"shapes\":[{\"type\":\"line\",\"x0\":\"2021-07-01\",\"x1\":\"2021-07-01\",\"xref\":\"x\",\"y0\":0,\"y1\":1,\"yref\":\"y domain\"}],\"autosize\":false,\"width\":1850,\"height\":500},                        {\"responsive\": true}                    ).then(function(){\n",
       "                            \n",
       "var gd = document.getElementById('c9f4ea20-ca4a-4441-91f0-6b7ae0eb38a1');\n",
       "var x = new MutationObserver(function (mutations, observer) {{\n",
       "        var display = window.getComputedStyle(gd).display;\n",
       "        if (!display || display === 'none') {{\n",
       "            console.log([gd, 'removed!']);\n",
       "            Plotly.purge(gd);\n",
       "            observer.disconnect();\n",
       "        }}\n",
       "}});\n",
       "\n",
       "// Listen for the removal of the full notebook cells\n",
       "var notebookContainer = gd.closest('#notebook-container');\n",
       "if (notebookContainer) {{\n",
       "    x.observe(notebookContainer, {childList: true});\n",
       "}}\n",
       "\n",
       "// Listen for the clearing of the current output cell\n",
       "var outputEl = gd.closest('.output');\n",
       "if (outputEl) {{\n",
       "    x.observe(outputEl, {childList: true});\n",
       "}}\n",
       "\n",
       "                        })                };                });            </script>        </div>"
      ]
     },
     "metadata": {},
     "output_type": "display_data"
    }
   ],
   "source": [
    "l_fig.show()"
   ]
  }
 ],
 "metadata": {
  "kernelspec": {
   "display_name": "Python 3 (ipykernel)",
   "language": "python",
   "name": "python3"
  },
  "language_info": {
   "codemirror_mode": {
    "name": "ipython",
    "version": 3
   },
   "file_extension": ".py",
   "mimetype": "text/x-python",
   "name": "python",
   "nbconvert_exporter": "python",
   "pygments_lexer": "ipython3",
   "version": "3.10.2"
  },
  "vscode": {
   "interpreter": {
    "hash": "b0fa6594d8f4cbf19f97940f81e996739fb7646882a419484c72d19e05852a7e"
   }
  }
 },
 "nbformat": 4,
 "nbformat_minor": 5
}
